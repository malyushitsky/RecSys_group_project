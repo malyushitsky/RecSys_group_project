{
 "cells": [
  {
   "cell_type": "code",
   "execution_count": 1,
   "id": "614cab1b",
   "metadata": {
    "editable": true,
    "id": "614cab1b",
    "slideshow": {
     "slide_type": ""
    },
    "tags": []
   },
   "outputs": [
    {
     "name": "stderr",
     "output_type": "stream",
     "text": [
      "C:\\Users\\kiril\\miniconda3\\envs\\gpu_env\\lib\\site-packages\\lightfm\\_lightfm_fast.py:9: UserWarning: LightFM was compiled without OpenMP support. Only a single thread will be used.\n",
      "  warnings.warn(\n"
     ]
    }
   ],
   "source": [
    "import numpy as np\n",
    "import pandas as pd\n",
    "\n",
    "from tqdm import tqdm\n",
    "\n",
    "from sklearn.metrics import mean_squared_error\n",
    "from sklearn.model_selection import train_test_split\n",
    "from sklearn.metrics.pairwise import pairwise_distances\n",
    "\n",
    "from lightfm.data import Dataset\n",
    "\n",
    "from math import sqrt\n",
    "\n",
    "import scipy.sparse as sp\n",
    "from scipy.sparse.linalg import svds\n",
    "from scipy.sparse import csr_matrix\n",
    "import scipy "
   ]
  },
  {
   "cell_type": "markdown",
   "id": "fd3546f9-0077-4b2b-b53d-5440a8d6ef4a",
   "metadata": {},
   "source": [
    "# load long ratings matrix"
   ]
  },
  {
   "cell_type": "code",
   "execution_count": 2,
   "id": "b5245ec2-488d-4f99-aac4-b0ac1d9915fb",
   "metadata": {},
   "outputs": [
    {
     "data": {
      "text/html": [
       "<div>\n",
       "<style scoped>\n",
       "    .dataframe tbody tr th:only-of-type {\n",
       "        vertical-align: middle;\n",
       "    }\n",
       "\n",
       "    .dataframe tbody tr th {\n",
       "        vertical-align: top;\n",
       "    }\n",
       "\n",
       "    .dataframe thead th {\n",
       "        text-align: right;\n",
       "    }\n",
       "</style>\n",
       "<table border=\"1\" class=\"dataframe\">\n",
       "  <thead>\n",
       "    <tr style=\"text-align: right;\">\n",
       "      <th></th>\n",
       "      <th>Wikipedia_movie_ID</th>\n",
       "      <th>userId</th>\n",
       "      <th>rating</th>\n",
       "    </tr>\n",
       "  </thead>\n",
       "  <tbody>\n",
       "    <tr>\n",
       "      <th>0</th>\n",
       "      <td>975900</td>\n",
       "      <td>251</td>\n",
       "      <td>2.0</td>\n",
       "    </tr>\n",
       "    <tr>\n",
       "      <th>1</th>\n",
       "      <td>975900</td>\n",
       "      <td>741</td>\n",
       "      <td>2.5</td>\n",
       "    </tr>\n",
       "    <tr>\n",
       "      <th>2</th>\n",
       "      <td>975900</td>\n",
       "      <td>1888</td>\n",
       "      <td>3.5</td>\n",
       "    </tr>\n",
       "    <tr>\n",
       "      <th>3</th>\n",
       "      <td>975900</td>\n",
       "      <td>1932</td>\n",
       "      <td>1.5</td>\n",
       "    </tr>\n",
       "    <tr>\n",
       "      <th>4</th>\n",
       "      <td>975900</td>\n",
       "      <td>2547</td>\n",
       "      <td>2.5</td>\n",
       "    </tr>\n",
       "    <tr>\n",
       "      <th>...</th>\n",
       "      <td>...</td>\n",
       "      <td>...</td>\n",
       "      <td>...</td>\n",
       "    </tr>\n",
       "    <tr>\n",
       "      <th>7225385</th>\n",
       "      <td>34980460</td>\n",
       "      <td>143508</td>\n",
       "      <td>3.5</td>\n",
       "    </tr>\n",
       "    <tr>\n",
       "      <th>7225386</th>\n",
       "      <td>34980460</td>\n",
       "      <td>154703</td>\n",
       "      <td>3.0</td>\n",
       "    </tr>\n",
       "    <tr>\n",
       "      <th>7225387</th>\n",
       "      <td>34980460</td>\n",
       "      <td>172224</td>\n",
       "      <td>3.5</td>\n",
       "    </tr>\n",
       "    <tr>\n",
       "      <th>7225388</th>\n",
       "      <td>34980460</td>\n",
       "      <td>201236</td>\n",
       "      <td>3.5</td>\n",
       "    </tr>\n",
       "    <tr>\n",
       "      <th>7225389</th>\n",
       "      <td>34980460</td>\n",
       "      <td>231356</td>\n",
       "      <td>4.0</td>\n",
       "    </tr>\n",
       "  </tbody>\n",
       "</table>\n",
       "<p>7225390 rows × 3 columns</p>\n",
       "</div>"
      ],
      "text/plain": [
       "         Wikipedia_movie_ID  userId  rating\n",
       "0                    975900     251     2.0\n",
       "1                    975900     741     2.5\n",
       "2                    975900    1888     3.5\n",
       "3                    975900    1932     1.5\n",
       "4                    975900    2547     2.5\n",
       "...                     ...     ...     ...\n",
       "7225385            34980460  143508     3.5\n",
       "7225386            34980460  154703     3.0\n",
       "7225387            34980460  172224     3.5\n",
       "7225388            34980460  201236     3.5\n",
       "7225389            34980460  231356     4.0\n",
       "\n",
       "[7225390 rows x 3 columns]"
      ]
     },
     "execution_count": 2,
     "metadata": {},
     "output_type": "execute_result"
    }
   ],
   "source": [
    "movies_ratings = pd.read_csv('long_ratings.csv')\n",
    "movies_ratings"
   ]
  },
  {
   "cell_type": "markdown",
   "id": "61cfe5b1",
   "metadata": {},
   "source": [
    "# collaborative filtering"
   ]
  },
  {
   "cell_type": "code",
   "execution_count": 3,
   "id": "ccc1e7a4",
   "metadata": {},
   "outputs": [],
   "source": [
    "def rmse(prediction, ground_truth):\n",
    "    prediction = np.nan_to_num(prediction)[ground_truth.nonzero()].flatten()\n",
    "    ground_truth = np.nan_to_num(ground_truth)[ground_truth.nonzero()].flatten()\n",
    "    mse = mean_squared_error(prediction, ground_truth)\n",
    "    \n",
    "    return sqrt(mse)"
   ]
  },
  {
   "cell_type": "code",
   "execution_count": 4,
   "id": "c9c3ea9f",
   "metadata": {},
   "outputs": [],
   "source": [
    "def apk(actual, predicted, k=3):\n",
    "    if len(predicted) > k:\n",
    "        predicted = predicted[:k]\n",
    "\n",
    "    score = 0.0\n",
    "    num_hits = 0.0\n",
    "\n",
    "    for i, p in enumerate(predicted):\n",
    "        if p in actual and p not in predicted[:i]:\n",
    "            num_hits += 1.0\n",
    "            score += num_hits / (i + 1.0)\n",
    "\n",
    "    if not actual:\n",
    "        return 0.0\n",
    "\n",
    "    return score / min(len(actual), k)\n",
    "\n",
    "\n",
    "def batch_mapk(actual, predicted, k=3):\n",
    "    all_apk = []\n",
    "    for act, pred in zip(actual, predicted):\n",
    "        all_apk.append(apk(act, pred, k))\n",
    "    return np.mean(all_apk)\n",
    "\n",
    "\n",
    "def generate_predictions_and_actuals_mapk(predicted_scores, user_item_matrix, relevance_threshold, k, batch_size=1000):\n",
    "    for i in range(0, user_item_matrix.shape[0], batch_size):\n",
    "        # Порция данных\n",
    "        user_batch = user_item_matrix[i:i + batch_size]\n",
    "\n",
    "        # Пример предсказаний модели: здесь надо заменить на настоящий вызов вашей модели\n",
    "        predicted = np.argsort(-predicted_scores)[:, :k]\n",
    "\n",
    "        # Определяем релевантные товары\n",
    "        actual = []\n",
    "        for user_id in range(user_batch.shape[0]):\n",
    "            user_row = user_batch[user_id]\n",
    "            relevant_indices = user_row.indices[user_row.data >= relevance_threshold]\n",
    "            actual.append(list(set(relevant_indices)))\n",
    "\n",
    "        yield actual, predicted"
   ]
  },
  {
   "cell_type": "code",
   "execution_count": 5,
   "id": "cf88960c",
   "metadata": {},
   "outputs": [],
   "source": [
    "def dcg_score(y_true, y_score, k=10, gains=\"exponential\"):\n",
    "    \"\"\"Discounted cumulative gain (DCG) at rank k\n",
    "    Parameters\n",
    "    ----------\n",
    "    y_true : array-like, shape = [n_samples]\n",
    "        Ground truth (true relevance labels).\n",
    "    y_score : array-like, shape = [n_samples]\n",
    "        Predicted scores.\n",
    "    k : int\n",
    "        Rank.\n",
    "    gains : str\n",
    "        Whether gains should be \"exponential\" (default) or \"linear\".\n",
    "    Returns\n",
    "    -------df\n",
    "    DCG @k : float\n",
    "    \"\"\"\n",
    "    order = np.argsort(y_score)[::-1]\n",
    "    y_true = np.take(y_true, order[:k])\n",
    "\n",
    "    if gains == \"exponential\":\n",
    "        gains = 2 ** y_true - 1\n",
    "    elif gains == \"linear\":\n",
    "        gains = y_true\n",
    "    else:\n",
    "        raise ValueError(\"Invalid gains option.\")\n",
    "\n",
    "    # highest rank is 1 so +2 instead of +1\n",
    "    discounts = np.log2(np.arange(len(y_true)) + 2)\n",
    "    return np.sum(gains / discounts)\n",
    "\n",
    "def ndcg_at_k(actual, predictions, k=10):\n",
    "    ndcg_scores = []\n",
    "    for (act_indices, act_scores), (pred_indices, pred_scores) in zip(actual, predictions):\n",
    "        mapping = dict(zip(act_indices, act_scores))\n",
    "\n",
    "        # Формируем результирующий массив (соответствие исходных оценок предсказанным)\n",
    "        act_ratings = []\n",
    "        for idx in pred_indices[0]:\n",
    "            if idx in mapping:\n",
    "                act_ratings.append(mapping[idx])\n",
    "            else:\n",
    "                act_ratings.append(0)\n",
    "\n",
    "\n",
    "        # print(act_indices, act_scores, act_ratings)\n",
    "        # print(pred_indices[0], pred_scores[0])\n",
    "        dcg = dcg_score(act_ratings, pred_scores[0], k)\n",
    "        idcg = dcg_score(act_ratings, act_ratings, k)\n",
    "        ndcg = dcg / idcg if idcg > 0 else 0\n",
    "\n",
    "        ndcg_scores.append(ndcg)\n",
    "\n",
    "    return np.mean(ndcg_scores)\n",
    "\n",
    "# Генератор, выдающий батчи актуальных рейтингов и предсказаний модели\n",
    "def generate_predictions_and_actuals_ndcg(predicted_scores, user_item_matrix, batch_size, k):\n",
    "    for i in range(0, user_item_matrix.shape[0], batch_size):\n",
    "        user_batch = user_item_matrix[i:i + batch_size]\n",
    "\n",
    "        # Сюда подставить предсказания модели для нашего батча юзеров (массив)\n",
    "        predictions = []\n",
    "        # predictions_indices = np.array([(-scores).argsort()[:k] for scores in predicted_scores])\n",
    "        predictions_ratings = np.array([np.sort(scores)[-k:][::-1] for scores in predicted_scores])\n",
    "        predictions_indices = np.argsort(-predicted_scores)[:, :k]\n",
    "        # predictions_ratings = predicted_scores[:, predictions_indices]\n",
    "        predictions.append((predictions_indices, predictions_ratings))\n",
    "\n",
    "        # Достаем релевантные товары для батча\n",
    "        actual = []\n",
    "        for user_id in range(user_batch.shape[0]):\n",
    "            user_row = user_batch.getrow(user_id)\n",
    "            # Реальные рейтинги для индексов, где они больше нуля\n",
    "            relevant_ratings = user_row.data\n",
    "            relevant_indices = user_row.indices\n",
    "            actual.append((relevant_indices, relevant_ratings))\n",
    "\n",
    "        yield actual, predictions"
   ]
  },
  {
   "cell_type": "code",
   "execution_count": 6,
   "id": "1466923d",
   "metadata": {},
   "outputs": [],
   "source": [
    "dataset = Dataset()\n",
    "dataset.fit(users=movies_ratings['userId'].unique(), items=movies_ratings['Wikipedia_movie_ID'].unique())"
   ]
  },
  {
   "cell_type": "code",
   "execution_count": 7,
   "id": "f4ec1cf0",
   "metadata": {},
   "outputs": [],
   "source": [
    "lightfm_mapping = dataset.mapping()\n",
    "lightfm_mapping = {\n",
    "    \"users_mapping\": lightfm_mapping[0],\n",
    "    \"user_features_mapping\": lightfm_mapping[1],\n",
    "    \"items_mapping\": lightfm_mapping[2],\n",
    "    \"item_features_mapping\": lightfm_mapping[3],\n",
    "}\n",
    "lightfm_mapping[\"users_inv_mapping\"] = {v: k for k, v in lightfm_mapping[\"users_mapping\"].items()}\n",
    "lightfm_mapping[\"items_inv_mapping\"] = {v: k for k, v in lightfm_mapping[\"items_mapping\"].items()}"
   ]
  },
  {
   "cell_type": "code",
   "execution_count": 14,
   "id": "314b41fa",
   "metadata": {},
   "outputs": [],
   "source": [
    "# lightfm_mapping[\"users_inv_mapping\"]"
   ]
  },
  {
   "cell_type": "code",
   "execution_count": 15,
   "id": "32544bf2",
   "metadata": {},
   "outputs": [
    {
     "data": {
      "text/plain": [
       "<Axes: >"
      ]
     },
     "execution_count": 15,
     "metadata": {},
     "output_type": "execute_result"
    },
    {
     "data": {
      "image/png": "[encoded data removed]",
      "text/plain": [
       "<Figure size 640x480 with 1 Axes>"
      ]
     },
     "metadata": {},
     "output_type": "display_data"
    }
   ],
   "source": [
    "movies_ratings.userId.hist(bins=200)"
   ]
  },
  {
   "cell_type": "code",
   "execution_count": 16,
   "id": "26bd3039-12ee-411b-8bc4-59206c8f71c1",
   "metadata": {},
   "outputs": [
    {
     "data": {
      "text/plain": [
       "rating\n",
       "4.0    1745956\n",
       "3.0    1570210\n",
       "3.5    1102172\n",
       "2.0     621788\n",
       "5.0     587083\n",
       "2.5     537491\n",
       "4.5     496590\n",
       "1.0     263627\n",
       "1.5     166579\n",
       "0.5     133894\n",
       "Name: count, dtype: int64"
      ]
     },
     "execution_count": 16,
     "metadata": {},
     "output_type": "execute_result"
    }
   ],
   "source": [
    "movies_ratings['rating'].value_counts()"
   ]
  },
  {
   "cell_type": "code",
   "execution_count": 17,
   "id": "cb2fcd93-c1cc-43cc-9243-63b4c4eb1be3",
   "metadata": {},
   "outputs": [
    {
     "data": {
      "text/plain": [
       "0             251\n",
       "1             741\n",
       "2            1888\n",
       "3            1932\n",
       "4            2547\n",
       "            ...  \n",
       "7225385    143508\n",
       "7225386    154703\n",
       "7225387    172224\n",
       "7225388    201236\n",
       "7225389    231356\n",
       "Name: userId, Length: 7225390, dtype: int64"
      ]
     },
     "execution_count": 17,
     "metadata": {},
     "output_type": "execute_result"
    }
   ],
   "source": [
    "movies_ratings.userId"
   ]
  },
  {
   "cell_type": "markdown",
   "id": "c4287f00-8e75-48a4-a4ef-a87a5b856b77",
   "metadata": {},
   "source": [
    "movies_ratings_cols = ['userId', 'Wikipedia_movie_ID', 'rating']\n",
    "movies_ratings_train, movies_ratings_test = train_test_split(movies_ratings, \n",
    "                                                             test_size=0.2, \n",
    "                                                             random_state=42,\n",
    "                                                             stratify=movies_ratings.userId)"
   ]
  },
  {
   "cell_type": "markdown",
   "id": "b0011c5c-373e-4643-a4d0-bcb3423a5cdf",
   "metadata": {},
   "source": [
    "movies_ratings_train.to_csv('train_matrix.csv', index=False)\n",
    "movies_ratings_test.to_csv('test_matrix.csv', index=False)"
   ]
  },
  {
   "cell_type": "code",
   "execution_count": 48,
   "id": "790838e3-5c95-4e75-86b1-8d75aa69d594",
   "metadata": {},
   "outputs": [],
   "source": [
    "import pandas as pd\n",
    "movies_ratings_train = pd.read_csv('train_test/train_matrix.csv')\n",
    "movies_ratings_test = pd.read_csv('train_test/test_matrix.csv')"
   ]
  },
  {
   "cell_type": "code",
   "execution_count": 4,
   "id": "56e705ec-79e4-4c81-a637-451cad68c7b1",
   "metadata": {},
   "outputs": [
    {
     "data": {
      "text/plain": [
       "(5780312, 3)"
      ]
     },
     "execution_count": 4,
     "metadata": {},
     "output_type": "execute_result"
    }
   ],
   "source": [
    "movies_ratings_train.shape"
   ]
  },
  {
   "cell_type": "code",
   "execution_count": 5,
   "id": "b6575db6-6569-44f9-b53b-a0a16207ca39",
   "metadata": {},
   "outputs": [
    {
     "data": {
      "text/plain": [
       "(1445078, 3)"
      ]
     },
     "execution_count": 5,
     "metadata": {},
     "output_type": "execute_result"
    }
   ],
   "source": [
    "movies_ratings_test.shape"
   ]
  },
  {
   "cell_type": "code",
   "execution_count": 6,
   "id": "37d654c6-60d7-4c06-9579-d1d8ace6cfcf",
   "metadata": {},
   "outputs": [
    {
     "data": {
      "text/html": [
       "<div>\n",
       "<style scoped>\n",
       "    .dataframe tbody tr th:only-of-type {\n",
       "        vertical-align: middle;\n",
       "    }\n",
       "\n",
       "    .dataframe tbody tr th {\n",
       "        vertical-align: top;\n",
       "    }\n",
       "\n",
       "    .dataframe thead th {\n",
       "        text-align: right;\n",
       "    }\n",
       "</style>\n",
       "<table border=\"1\" class=\"dataframe\">\n",
       "  <thead>\n",
       "    <tr style=\"text-align: right;\">\n",
       "      <th></th>\n",
       "      <th>Wikipedia_movie_ID</th>\n",
       "      <th>userId</th>\n",
       "      <th>rating</th>\n",
       "    </tr>\n",
       "  </thead>\n",
       "  <tbody>\n",
       "    <tr>\n",
       "      <th>0</th>\n",
       "      <td>129524</td>\n",
       "      <td>118806</td>\n",
       "      <td>4.0</td>\n",
       "    </tr>\n",
       "    <tr>\n",
       "      <th>1</th>\n",
       "      <td>195388</td>\n",
       "      <td>2547</td>\n",
       "      <td>4.0</td>\n",
       "    </tr>\n",
       "    <tr>\n",
       "      <th>2</th>\n",
       "      <td>348292</td>\n",
       "      <td>99870</td>\n",
       "      <td>3.0</td>\n",
       "    </tr>\n",
       "    <tr>\n",
       "      <th>3</th>\n",
       "      <td>1065748</td>\n",
       "      <td>229710</td>\n",
       "      <td>3.5</td>\n",
       "    </tr>\n",
       "    <tr>\n",
       "      <th>4</th>\n",
       "      <td>20179720</td>\n",
       "      <td>233395</td>\n",
       "      <td>3.0</td>\n",
       "    </tr>\n",
       "    <tr>\n",
       "      <th>...</th>\n",
       "      <td>...</td>\n",
       "      <td>...</td>\n",
       "      <td>...</td>\n",
       "    </tr>\n",
       "    <tr>\n",
       "      <th>1445073</th>\n",
       "      <td>18618306</td>\n",
       "      <td>263311</td>\n",
       "      <td>4.0</td>\n",
       "    </tr>\n",
       "    <tr>\n",
       "      <th>1445074</th>\n",
       "      <td>14119255</td>\n",
       "      <td>118524</td>\n",
       "      <td>1.0</td>\n",
       "    </tr>\n",
       "    <tr>\n",
       "      <th>1445075</th>\n",
       "      <td>113651</td>\n",
       "      <td>73497</td>\n",
       "      <td>4.0</td>\n",
       "    </tr>\n",
       "    <tr>\n",
       "      <th>1445076</th>\n",
       "      <td>537416</td>\n",
       "      <td>110933</td>\n",
       "      <td>2.0</td>\n",
       "    </tr>\n",
       "    <tr>\n",
       "      <th>1445077</th>\n",
       "      <td>592297</td>\n",
       "      <td>207854</td>\n",
       "      <td>4.0</td>\n",
       "    </tr>\n",
       "  </tbody>\n",
       "</table>\n",
       "<p>1445078 rows × 3 columns</p>\n",
       "</div>"
      ],
      "text/plain": [
       "         Wikipedia_movie_ID  userId  rating\n",
       "0                    129524  118806     4.0\n",
       "1                    195388    2547     4.0\n",
       "2                    348292   99870     3.0\n",
       "3                   1065748  229710     3.5\n",
       "4                  20179720  233395     3.0\n",
       "...                     ...     ...     ...\n",
       "1445073            18618306  263311     4.0\n",
       "1445074            14119255  118524     1.0\n",
       "1445075              113651   73497     4.0\n",
       "1445076              537416  110933     2.0\n",
       "1445077              592297  207854     4.0\n",
       "\n",
       "[1445078 rows x 3 columns]"
      ]
     },
     "execution_count": 6,
     "metadata": {},
     "output_type": "execute_result"
    }
   ],
   "source": [
    "movies_ratings_test"
   ]
  },
  {
   "cell_type": "code",
   "execution_count": null,
   "id": "3da6b0dc-587b-47f7-bf1d-68d619b8a669",
   "metadata": {},
   "outputs": [],
   "source": []
  },
  {
   "cell_type": "code",
   "execution_count": 50,
   "id": "118fd297",
   "metadata": {},
   "outputs": [],
   "source": [
    "# movies_ratings_train.userId.hist()"
   ]
  },
  {
   "cell_type": "code",
   "execution_count": 51,
   "id": "75e9ca18",
   "metadata": {},
   "outputs": [],
   "source": [
    "# movies_ratings_test.userId.hist()"
   ]
  },
  {
   "cell_type": "code",
   "execution_count": 49,
   "id": "8966dc02",
   "metadata": {},
   "outputs": [],
   "source": [
    "movies_ratings_cols = ['userId', 'Wikipedia_movie_ID', 'rating']\n",
    "X_train, weights_train = (\n",
    "    dataset.build_interactions([tuple(i) for i in movies_ratings_train[movies_ratings_cols].values]))\n",
    "X_test, weights_test = (\n",
    "    dataset.build_interactions([tuple(i) for i in movies_ratings_test[movies_ratings_cols].values]))"
   ]
  },
  {
   "cell_type": "code",
   "execution_count": 50,
   "id": "54a77c87",
   "metadata": {},
   "outputs": [],
   "source": [
    "matrix_train = pd.DataFrame.sparse.from_spmatrix(weights_train)\n",
    "matrix_test = pd.DataFrame.sparse.from_spmatrix(weights_test)"
   ]
  },
  {
   "cell_type": "code",
   "execution_count": 132,
   "id": "2b7ebc2e-bbdd-494d-a14a-8c6c288a0dd0",
   "metadata": {
    "collapsed": true,
    "jupyter": {
     "outputs_hidden": true
    }
   },
   "outputs": [
    {
     "data": {
      "text/plain": [
       "{975900: 0,\n",
       " 10408933: 1,\n",
       " 6631279: 2,\n",
       " 171005: 3,\n",
       " 77856: 4,\n",
       " 21926710: 5,\n",
       " 156558: 6,\n",
       " 1364293: 7,\n",
       " 26067101: 8,\n",
       " 25960460: 9,\n",
       " 261237: 10,\n",
       " 12008535: 11,\n",
       " 4951456: 12,\n",
       " 21449578: 13,\n",
       " 12053509: 14,\n",
       " 1369204: 15,\n",
       " 2647998: 16,\n",
       " 1254263: 17,\n",
       " 7028314: 18,\n",
       " 5664529: 19,\n",
       " 5894429: 20,\n",
       " 12788657: 21,\n",
       " 27556929: 22,\n",
       " 4300418: 23,\n",
       " 8669450: 24,\n",
       " 33059372: 25,\n",
       " 3740032: 26,\n",
       " 164387: 27,\n",
       " 7767613: 28,\n",
       " 164388: 29,\n",
       " 22985953: 30,\n",
       " 1630107: 31,\n",
       " 3550323: 32,\n",
       " 1765938: 33,\n",
       " 7460227: 34,\n",
       " 1305819: 35,\n",
       " 6752142: 36,\n",
       " 27002888: 37,\n",
       " 6305925: 38,\n",
       " 196176: 39,\n",
       " 2509881: 40,\n",
       " 28742538: 41,\n",
       " 26137128: 42,\n",
       " 31505444: 43,\n",
       " 336846: 44,\n",
       " 27463222: 45,\n",
       " 3249964: 46,\n",
       " 21906878: 47,\n",
       " 15007384: 48,\n",
       " 3310726: 49,\n",
       " 3033993: 50,\n",
       " 1588008: 51,\n",
       " 5696825: 52,\n",
       " 103021: 53,\n",
       " 1940449: 54,\n",
       " 73842: 55,\n",
       " 6703617: 56,\n",
       " 21737016: 57,\n",
       " 362719: 58,\n",
       " 30353952: 59,\n",
       " 21271533: 60,\n",
       " 7696753: 61,\n",
       " 17379289: 62,\n",
       " 10705531: 63,\n",
       " 4459059: 64,\n",
       " 413207: 65,\n",
       " 4069274: 66,\n",
       " 3681139: 67,\n",
       " 35923481: 68,\n",
       " 5549065: 69,\n",
       " 171058: 70,\n",
       " 2608958: 71,\n",
       " 26624119: 72,\n",
       " 2546429: 73,\n",
       " 24416479: 74,\n",
       " 31021783: 75,\n",
       " 36166216: 76,\n",
       " 31613768: 77,\n",
       " 1033297: 78,\n",
       " 21236198: 79,\n",
       " 17594419: 80,\n",
       " 207680: 81,\n",
       " 1858682: 82,\n",
       " 33006259: 83,\n",
       " 7235116: 84,\n",
       " 5254729: 85,\n",
       " 2051395: 86,\n",
       " 19168185: 87,\n",
       " 20648586: 88,\n",
       " 7447592: 89,\n",
       " 9560806: 90,\n",
       " 22697314: 91,\n",
       " 9879162: 92,\n",
       " 35785312: 93,\n",
       " 13931033: 94,\n",
       " 7583494: 95,\n",
       " 2642180: 96,\n",
       " 6004372: 97,\n",
       " 4473622: 98,\n",
       " 3867110: 99,\n",
       " 2093270: 100,\n",
       " 22332882: 101,\n",
       " 11686007: 102,\n",
       " 22557257: 103,\n",
       " 8637169: 104,\n",
       " 7731853: 105,\n",
       " 856733: 106,\n",
       " 76345: 107,\n",
       " 24021571: 108,\n",
       " 1854612: 109,\n",
       " 3341998: 110,\n",
       " 11696799: 111,\n",
       " 4926447: 112,\n",
       " 1226289: 113,\n",
       " 3475071: 114,\n",
       " 3319645: 115,\n",
       " 2450188: 116,\n",
       " 34336017: 117,\n",
       " 44218: 118,\n",
       " 1135297: 119,\n",
       " 7882413: 120,\n",
       " 20338652: 121,\n",
       " 19837210: 122,\n",
       " 9215946: 123,\n",
       " 7014201: 124,\n",
       " 7752732: 125,\n",
       " 20271784: 126,\n",
       " 1957472: 127,\n",
       " 1307956: 128,\n",
       " 2216254: 129,\n",
       " 28530363: 130,\n",
       " 30548208: 131,\n",
       " 29499560: 132,\n",
       " 2524925: 133,\n",
       " 4002677: 134,\n",
       " 1964091: 135,\n",
       " 9404578: 136,\n",
       " 6721185: 137,\n",
       " 3917900: 138,\n",
       " 1378672: 139,\n",
       " 32789457: 140,\n",
       " 22358819: 141,\n",
       " 1748912: 142,\n",
       " 706803: 143,\n",
       " 20206687: 144,\n",
       " 1851703: 145,\n",
       " 20437960: 146,\n",
       " 3917873: 147,\n",
       " 5363369: 148,\n",
       " 7266768: 149,\n",
       " 444919: 150,\n",
       " 1033477: 151,\n",
       " 12287578: 152,\n",
       " 24300269: 153,\n",
       " 28010827: 154,\n",
       " 34536797: 155,\n",
       " 1097249: 156,\n",
       " 6973699: 157,\n",
       " 33096336: 158,\n",
       " 26068632: 159,\n",
       " 7154611: 160,\n",
       " 22592501: 161,\n",
       " 1904367: 162,\n",
       " 28542372: 163,\n",
       " 24207129: 164,\n",
       " 7280802: 165,\n",
       " 1533733: 166,\n",
       " 5464664: 167,\n",
       " 24051028: 168,\n",
       " 17711304: 169,\n",
       " 9408752: 170,\n",
       " 25214436: 171,\n",
       " 25075517: 172,\n",
       " 28388755: 173,\n",
       " 5884079: 174,\n",
       " 1781048: 175,\n",
       " 15670779: 176,\n",
       " 2553539: 177,\n",
       " 19840260: 178,\n",
       " 8316526: 179,\n",
       " 817057: 180,\n",
       " 29004995: 181,\n",
       " 399402: 182,\n",
       " 22224559: 183,\n",
       " 1222278: 184,\n",
       " 4200912: 185,\n",
       " 4836072: 186,\n",
       " 2121431: 187,\n",
       " 6644109: 188,\n",
       " 11361551: 189,\n",
       " 1132138: 190,\n",
       " 736262: 191,\n",
       " 4360088: 192,\n",
       " 2262277: 193,\n",
       " 5240350: 194,\n",
       " 14076924: 195,\n",
       " 13365023: 196,\n",
       " 24292756: 197,\n",
       " 17839776: 198,\n",
       " 21234681: 199,\n",
       " 8658177: 200,\n",
       " 20762723: 201,\n",
       " 12095072: 202,\n",
       " 4188689: 203,\n",
       " 249406: 204,\n",
       " 7153927: 205,\n",
       " 8743599: 206,\n",
       " 27383563: 207,\n",
       " 30975925: 208,\n",
       " 3694061: 209,\n",
       " 4025965: 210,\n",
       " 957179: 211,\n",
       " 3389311: 212,\n",
       " 5565338: 213,\n",
       " 168571: 214,\n",
       " 31982675: 215,\n",
       " 6244632: 216,\n",
       " 10990102: 217,\n",
       " 1231856: 218,\n",
       " 161877: 219,\n",
       " 36036213: 220,\n",
       " 10858701: 221,\n",
       " 934809: 222,\n",
       " 16645962: 223,\n",
       " 1273572: 224,\n",
       " 77639: 225,\n",
       " 5080311: 226,\n",
       " 23939272: 227,\n",
       " 5137345: 228,\n",
       " 13508675: 229,\n",
       " 8948959: 230,\n",
       " 5150761: 231,\n",
       " 25366718: 232,\n",
       " 7299774: 233,\n",
       " 6057698: 234,\n",
       " 2028217: 235,\n",
       " 1141059: 236,\n",
       " 28839628: 237,\n",
       " 11259949: 238,\n",
       " 5682615: 239,\n",
       " 20500100: 240,\n",
       " 9943176: 241,\n",
       " 3504034: 242,\n",
       " 1157158: 243,\n",
       " 24665535: 244,\n",
       " 16647548: 245,\n",
       " 803276: 246,\n",
       " 3028248: 247,\n",
       " 3432108: 248,\n",
       " 4501185: 249,\n",
       " 9594415: 250,\n",
       " 1774709: 251,\n",
       " 13769297: 252,\n",
       " 5877719: 253,\n",
       " 6836206: 254,\n",
       " 3059075: 255,\n",
       " 142274: 256,\n",
       " 31250513: 257,\n",
       " 508985: 258,\n",
       " 3682299: 259,\n",
       " 6887098: 260,\n",
       " 5049873: 261,\n",
       " 24407838: 262,\n",
       " 1871167: 263,\n",
       " 18487239: 264,\n",
       " 1217079: 265,\n",
       " 10088120: 266,\n",
       " 2313467: 267,\n",
       " 1472852: 268,\n",
       " 31032524: 269,\n",
       " 9497934: 270,\n",
       " 6846215: 271,\n",
       " 13194784: 272,\n",
       " 780889: 273,\n",
       " 9002666: 274,\n",
       " 33938681: 275,\n",
       " 22680762: 276,\n",
       " 780888: 277,\n",
       " 9555242: 278,\n",
       " 13934307: 279,\n",
       " 12180811: 280,\n",
       " 28903478: 281,\n",
       " 2110246: 282,\n",
       " 24708749: 283,\n",
       " 5566878: 284,\n",
       " 4966576: 285,\n",
       " 32635381: 286,\n",
       " 4403780: 287,\n",
       " 1480748: 288,\n",
       " 250012: 289,\n",
       " 2023704: 290,\n",
       " 2723037: 291,\n",
       " 1480747: 292,\n",
       " 683122: 293,\n",
       " 2332610: 294,\n",
       " 3293243: 295,\n",
       " 13210849: 296,\n",
       " 2332364: 297,\n",
       " 9457642: 298,\n",
       " 10877732: 299,\n",
       " 73395: 300,\n",
       " 26723356: 301,\n",
       " 31519851: 302,\n",
       " 7351283: 303,\n",
       " 34853942: 304,\n",
       " 8219325: 305,\n",
       " 62688: 306,\n",
       " 24739648: 307,\n",
       " 31535046: 308,\n",
       " 15115743: 309,\n",
       " 468356: 310,\n",
       " 7012138: 311,\n",
       " 570743: 312,\n",
       " 504242: 313,\n",
       " 129295: 314,\n",
       " 1247022: 315,\n",
       " 13289421: 316,\n",
       " 256337: 317,\n",
       " 11699443: 318,\n",
       " 2894499: 319,\n",
       " 11625324: 320,\n",
       " 25008319: 321,\n",
       " 8987889: 322,\n",
       " 19236804: 323,\n",
       " 21132938: 324,\n",
       " 8353789: 325,\n",
       " 7955522: 326,\n",
       " 17939111: 327,\n",
       " 7792664: 328,\n",
       " 9088886: 329,\n",
       " 6581470: 330,\n",
       " 5257643: 331,\n",
       " 20712613: 332,\n",
       " 3511253: 333,\n",
       " 175079: 334,\n",
       " 18164108: 335,\n",
       " 1017172: 336,\n",
       " 670013: 337,\n",
       " 2181949: 338,\n",
       " 580994: 339,\n",
       " 183828: 340,\n",
       " 34181242: 341,\n",
       " 20700559: 342,\n",
       " 5329751: 343,\n",
       " 34336612: 344,\n",
       " 7644867: 345,\n",
       " 27388121: 346,\n",
       " 5283066: 347,\n",
       " 20629940: 348,\n",
       " 9906067: 349,\n",
       " 103022: 350,\n",
       " 1966655: 351,\n",
       " 33581371: 352,\n",
       " 11161265: 353,\n",
       " 2649865: 354,\n",
       " 2236141: 355,\n",
       " 2080306: 356,\n",
       " 2002258: 357,\n",
       " 23118238: 358,\n",
       " 1336564: 359,\n",
       " 1481638: 360,\n",
       " 21983784: 361,\n",
       " 2705410: 362,\n",
       " 22683998: 363,\n",
       " 1216495: 364,\n",
       " 31176974: 365,\n",
       " 16855103: 366,\n",
       " 1598832: 367,\n",
       " 23171363: 368,\n",
       " 16188573: 369,\n",
       " 23664512: 370,\n",
       " 18195027: 371,\n",
       " 8719979: 372,\n",
       " 3158499: 373,\n",
       " 26554437: 374,\n",
       " 22578492: 375,\n",
       " 4600218: 376,\n",
       " 31404359: 377,\n",
       " 918886: 378,\n",
       " 1853602: 379,\n",
       " 327427: 380,\n",
       " 4061041: 381,\n",
       " 24159097: 382,\n",
       " 7585416: 383,\n",
       " 628120: 384,\n",
       " 1471831: 385,\n",
       " 3520906: 386,\n",
       " 6635945: 387,\n",
       " 1592736: 388,\n",
       " 7238588: 389,\n",
       " 4129173: 390,\n",
       " 12509757: 391,\n",
       " 21008312: 392,\n",
       " 6987479: 393,\n",
       " 2292864: 394,\n",
       " 8744194: 395,\n",
       " 74871: 396,\n",
       " 685987: 397,\n",
       " 8499528: 398,\n",
       " 14728039: 399,\n",
       " 6368900: 400,\n",
       " 1663320: 401,\n",
       " 21099183: 402,\n",
       " 74868: 403,\n",
       " 28405178: 404,\n",
       " 1853200: 405,\n",
       " 1111223: 406,\n",
       " 5718787: 407,\n",
       " 8692428: 408,\n",
       " 8056688: 409,\n",
       " 1702604: 410,\n",
       " 4605171: 411,\n",
       " 3767179: 412,\n",
       " 224069: 413,\n",
       " 29733028: 414,\n",
       " 29019687: 415,\n",
       " 6332837: 416,\n",
       " 10594693: 417,\n",
       " 10803660: 418,\n",
       " 3657826: 419,\n",
       " 22486844: 420,\n",
       " 8695: 421,\n",
       " 24889160: 422,\n",
       " 14291637: 423,\n",
       " 2349235: 424,\n",
       " 6839059: 425,\n",
       " 1295686: 426,\n",
       " 2542946: 427,\n",
       " 9123604: 428,\n",
       " 3703077: 429,\n",
       " 275547: 430,\n",
       " 15478296: 431,\n",
       " 13945288: 432,\n",
       " 28465900: 433,\n",
       " 2430019: 434,\n",
       " 16226377: 435,\n",
       " 1878054: 436,\n",
       " 6114774: 437,\n",
       " 31351: 438,\n",
       " 6823327: 439,\n",
       " 3673942: 440,\n",
       " 9340076: 441,\n",
       " 7725707: 442,\n",
       " 3176181: 443,\n",
       " 17022526: 444,\n",
       " 1456329: 445,\n",
       " 1367110: 446,\n",
       " 163462: 447,\n",
       " 8545243: 448,\n",
       " 12138493: 449,\n",
       " 12585204: 450,\n",
       " 1488066: 451,\n",
       " 36353797: 452,\n",
       " 5083659: 453,\n",
       " 23597540: 454,\n",
       " 30575: 455,\n",
       " 4278437: 456,\n",
       " 685721: 457,\n",
       " 27758747: 458,\n",
       " 6691690: 459,\n",
       " 5105411: 460,\n",
       " 15204287: 461,\n",
       " 685720: 462,\n",
       " 142443: 463,\n",
       " 8964541: 464,\n",
       " 20113351: 465,\n",
       " 32130401: 466,\n",
       " 2502728: 467,\n",
       " 26178713: 468,\n",
       " 43307: 469,\n",
       " 366111: 470,\n",
       " 1249019: 471,\n",
       " 33323067: 472,\n",
       " 3619129: 473,\n",
       " 8997652: 474,\n",
       " 7421446: 475,\n",
       " 25871790: 476,\n",
       " 6449600: 477,\n",
       " 32605438: 478,\n",
       " 5612517: 479,\n",
       " 445066: 480,\n",
       " 17471669: 481,\n",
       " 19844332: 482,\n",
       " 4340789: 483,\n",
       " 4788925: 484,\n",
       " 7471088: 485,\n",
       " 31958696: 486,\n",
       " 46505: 487,\n",
       " 20731623: 488,\n",
       " 1431534: 489,\n",
       " 3112996: 490,\n",
       " 25922951: 491,\n",
       " 19281170: 492,\n",
       " 2262096: 493,\n",
       " 5431194: 494,\n",
       " 992455: 495,\n",
       " 1717731: 496,\n",
       " 770083: 497,\n",
       " 3347962: 498,\n",
       " 8850105: 499,\n",
       " 9310197: 500,\n",
       " 2651593: 501,\n",
       " 23381676: 502,\n",
       " 4907371: 503,\n",
       " 22291285: 504,\n",
       " 30854972: 505,\n",
       " 1282593: 506,\n",
       " 21613921: 507,\n",
       " 18932875: 508,\n",
       " 2782527: 509,\n",
       " 27871452: 510,\n",
       " 4825726: 511,\n",
       " 453573: 512,\n",
       " 2677195: 513,\n",
       " 28817360: 514,\n",
       " 19115982: 515,\n",
       " 2379908: 516,\n",
       " 11614763: 517,\n",
       " 36088550: 518,\n",
       " 1858604: 519,\n",
       " 2100492: 520,\n",
       " 26200531: 521,\n",
       " 23734853: 522,\n",
       " 10183625: 523,\n",
       " 161452: 524,\n",
       " 993791: 525,\n",
       " 19554890: 526,\n",
       " 113454: 527,\n",
       " 33444713: 528,\n",
       " 1431065: 529,\n",
       " 5955514: 530,\n",
       " 6961461: 531,\n",
       " 2267722: 532,\n",
       " 27197723: 533,\n",
       " 21350474: 534,\n",
       " 3727473: 535,\n",
       " 680361: 536,\n",
       " 19787914: 537,\n",
       " 190405: 538,\n",
       " 2969042: 539,\n",
       " 4696764: 540,\n",
       " 19046062: 541,\n",
       " 33656303: 542,\n",
       " 5274269: 543,\n",
       " 359571: 544,\n",
       " 22144721: 545,\n",
       " 10940332: 546,\n",
       " 24954740: 547,\n",
       " 5118135: 548,\n",
       " 165106: 549,\n",
       " 18967674: 550,\n",
       " 27113000: 551,\n",
       " 8153846: 552,\n",
       " 13809448: 553,\n",
       " 21373881: 554,\n",
       " 19024526: 555,\n",
       " 9383995: 556,\n",
       " 2609169: 557,\n",
       " 23095277: 558,\n",
       " 44771: 559,\n",
       " 619956: 560,\n",
       " 2761187: 561,\n",
       " 3710183: 562,\n",
       " 77643: 563,\n",
       " 2539874: 564,\n",
       " 22380174: 565,\n",
       " 3633996: 566,\n",
       " 142457: 567,\n",
       " 3990322: 568,\n",
       " 33314767: 569,\n",
       " 10915095: 570,\n",
       " 17931096: 571,\n",
       " 431685: 572,\n",
       " 186856: 573,\n",
       " 3470692: 574,\n",
       " 21242801: 575,\n",
       " 92582: 576,\n",
       " 6097565: 577,\n",
       " 4515396: 578,\n",
       " 31839719: 579,\n",
       " 15463100: 580,\n",
       " 6177777: 581,\n",
       " 607444: 582,\n",
       " 5454030: 583,\n",
       " 3478537: 584,\n",
       " 1380313: 585,\n",
       " 9009812: 586,\n",
       " 73457: 587,\n",
       " 10200181: 588,\n",
       " 18019926: 589,\n",
       " 4979704: 590,\n",
       " 24585123: 591,\n",
       " 3665621: 592,\n",
       " 12812600: 593,\n",
       " 1345561: 594,\n",
       " 2941852: 595,\n",
       " 3339200: 596,\n",
       " 1364205: 597,\n",
       " 1199638: 598,\n",
       " 6446044: 599,\n",
       " 27539366: 600,\n",
       " 17657295: 601,\n",
       " 5249887: 602,\n",
       " 33945838: 603,\n",
       " 22523378: 604,\n",
       " 3333: 605,\n",
       " 16958933: 606,\n",
       " 365039: 607,\n",
       " 3662683: 608,\n",
       " 1353277: 609,\n",
       " 20981095: 610,\n",
       " 1594929: 611,\n",
       " 28763446: 612,\n",
       " 18580485: 613,\n",
       " 438547: 614,\n",
       " 24251542: 615,\n",
       " 2980843: 616,\n",
       " 2476317: 617,\n",
       " 3782101: 618,\n",
       " 11448113: 619,\n",
       " 4515733: 620,\n",
       " 18850187: 621,\n",
       " 2188611: 622,\n",
       " 13194660: 623,\n",
       " 32207440: 624,\n",
       " 6179154: 625,\n",
       " 6789361: 626,\n",
       " 1345984: 627,\n",
       " 7680880: 628,\n",
       " 31783951: 629,\n",
       " 2296056: 630,\n",
       " 14000171: 631,\n",
       " 31972917: 632,\n",
       " 999394: 633,\n",
       " 4110795: 634,\n",
       " 31417999: 635,\n",
       " 4949401: 636,\n",
       " 24158189: 637,\n",
       " 3984733: 638,\n",
       " 226198: 639,\n",
       " 6851815: 640,\n",
       " 4669663: 641,\n",
       " 2795282: 642,\n",
       " 4199282: 643,\n",
       " 13375877: 644,\n",
       " 2026601: 645,\n",
       " 34537226: 646,\n",
       " 7081414: 647,\n",
       " 944471: 648,\n",
       " 9219835: 649,\n",
       " 102026: 650,\n",
       " 2254144: 651,\n",
       " 4213154: 652,\n",
       " 7771844: 653,\n",
       " 9113663: 654,\n",
       " 1482785: 655,\n",
       " 7287758: 656,\n",
       " 703687: 657,\n",
       " 8464511: 658,\n",
       " 5534117: 659,\n",
       " 5513348: 660,\n",
       " 971217: 661,\n",
       " 19245641: 662,\n",
       " 9478308: 663,\n",
       " 13031234: 664,\n",
       " 19282469: 665,\n",
       " 4054638: 666,\n",
       " 22438706: 667,\n",
       " 11517368: 668,\n",
       " 1032643: 669,\n",
       " 4023052: 670,\n",
       " 10377382: 671,\n",
       " 29097142: 672,\n",
       " 26655268: 673,\n",
       " 476640: 674,\n",
       " 10949969: 675,\n",
       " 28932258: 676,\n",
       " 26016562: 677,\n",
       " 2043990: 678,\n",
       " 545187: 679,\n",
       " 4783203: 680,\n",
       " 3654133: 681,\n",
       " 492540: 682,\n",
       " 2964227: 683,\n",
       " 8178763: 684,\n",
       " 3520805: 685,\n",
       " 4186478: 686,\n",
       " 14104063: 687,\n",
       " 8204853: 688,\n",
       " 7513196: 689,\n",
       " 277710: 690,\n",
       " 268087: 691,\n",
       " 7658324: 692,\n",
       " 909664: 693,\n",
       " 14582455: 694,\n",
       " 15924135: 695,\n",
       " 36193849: 696,\n",
       " 4123241: 697,\n",
       " 682275: 698,\n",
       " 146947: 699,\n",
       " 6717319: 700,\n",
       " 22751: 701,\n",
       " 1539559: 702,\n",
       " 499431: 703,\n",
       " 277713: 704,\n",
       " 11450070: 705,\n",
       " 27063955: 706,\n",
       " 14421091: 707,\n",
       " 32234047: 708,\n",
       " 6672250: 709,\n",
       " 13329416: 710,\n",
       " 441280: 711,\n",
       " 2501824: 712,\n",
       " 20040056: 713,\n",
       " 3829543: 714,\n",
       " 2279610: 715,\n",
       " 1164551: 716,\n",
       " 70428: 717,\n",
       " 144831: 718,\n",
       " 11351598: 719,\n",
       " 23563063: 720,\n",
       " 5620636: 721,\n",
       " 5778040: 722,\n",
       " 12835046: 723,\n",
       " 31349941: 724,\n",
       " 29262922: 725,\n",
       " 2448736: 726,\n",
       " 1608019: 727,\n",
       " 4345625: 728,\n",
       " 28439357: 729,\n",
       " 3610168: 730,\n",
       " 19968061: 731,\n",
       " 4874236: 732,\n",
       " 23982633: 733,\n",
       " 1495192: 734,\n",
       " 734419: 735,\n",
       " 9169267: 736,\n",
       " 6781858: 737,\n",
       " 16395026: 738,\n",
       " 5699114: 739,\n",
       " 15016005: 740,\n",
       " 28477769: 741,\n",
       " 2154180: 742,\n",
       " 31614378: 743,\n",
       " 6480541: 744,\n",
       " 25485450: 745,\n",
       " 1040965: 746,\n",
       " 20402406: 747,\n",
       " 28722503: 748,\n",
       " 3343617: 749,\n",
       " 76399: 750,\n",
       " 32258845: 751,\n",
       " 4940876: 752,\n",
       " 9563619: 753,\n",
       " 14122557: 754,\n",
       " 1424739: 755,\n",
       " 5812844: 756,\n",
       " 22558707: 757,\n",
       " 19366458: 758,\n",
       " 5150937: 759,\n",
       " 5824039: 760,\n",
       " 1749093: 761,\n",
       " 29373289: 762,\n",
       " 2779486: 763,\n",
       " 2117473: 764,\n",
       " 27451281: 765,\n",
       " 20479465: 766,\n",
       " 26017339: 767,\n",
       " 12267883: 768,\n",
       " 30864957: 769,\n",
       " 32864668: 770,\n",
       " 6394592: 771,\n",
       " 27954029: 772,\n",
       " 2045991: 773,\n",
       " 9068424: 774,\n",
       " 30413435: 775,\n",
       " 1638112: 776,\n",
       " 3382856: 777,\n",
       " 4191487: 778,\n",
       " 9119837: 779,\n",
       " 23318059: 780,\n",
       " 314406: 781,\n",
       " 13246118: 782,\n",
       " 33975671: 783,\n",
       " 35211335: 784,\n",
       " 34513262: 785,\n",
       " 8620409: 786,\n",
       " 2243660: 787,\n",
       " 61501: 788,\n",
       " 19077840: 789,\n",
       " 2352505: 790,\n",
       " 32326508: 791,\n",
       " 2772142: 792,\n",
       " 3450583: 793,\n",
       " 2370658: 794,\n",
       " 1136182: 795,\n",
       " 10667973: 796,\n",
       " 25111734: 797,\n",
       " 6342627: 798,\n",
       " 36527107: 799,\n",
       " 19910557: 800,\n",
       " 5019011: 801,\n",
       " 2485103: 802,\n",
       " 5558650: 803,\n",
       " 532618: 804,\n",
       " 1452866: 805,\n",
       " 4083138: 806,\n",
       " 6608572: 807,\n",
       " 6201527: 808,\n",
       " 24984104: 809,\n",
       " 3374650: 810,\n",
       " 19163173: 811,\n",
       " 6976850: 812,\n",
       " 34423767: 813,\n",
       " 24926538: 814,\n",
       " 10806577: 815,\n",
       " 12240357: 816,\n",
       " 8366729: 817,\n",
       " 20891648: 818,\n",
       " 26514248: 819,\n",
       " 11508746: 820,\n",
       " 1781284: 821,\n",
       " 20019382: 822,\n",
       " 920613: 823,\n",
       " 2372994: 824,\n",
       " 17430659: 825,\n",
       " 10499315: 826,\n",
       " 4972125: 827,\n",
       " 3730244: 828,\n",
       " 22318957: 829,\n",
       " 2310550: 830,\n",
       " 2513887: 831,\n",
       " 287408: 832,\n",
       " 25006668: 833,\n",
       " 2031778: 834,\n",
       " 2810331: 835,\n",
       " 2165760: 836,\n",
       " 4679679: 837,\n",
       " 27941379: 838,\n",
       " 6954370: 839,\n",
       " 4179778: 840,\n",
       " 2037403: 841,\n",
       " 1047447: 842,\n",
       " 1290887: 843,\n",
       " 3044528: 844,\n",
       " 14630339: 845,\n",
       " 60164: 846,\n",
       " 32683873: 847,\n",
       " 20220702: 848,\n",
       " 9105327: 849,\n",
       " 26724926: 850,\n",
       " 9935760: 851,\n",
       " 14480043: 852,\n",
       " 2350630: 853,\n",
       " 2200771: 854,\n",
       " 9470281: 855,\n",
       " 7330661: 856,\n",
       " 10061978: 857,\n",
       " 1356982: 858,\n",
       " 3934285: 859,\n",
       " 1073955: 860,\n",
       " 2467794: 861,\n",
       " 13096852: 862,\n",
       " 10385898: 863,\n",
       " 3920193: 864,\n",
       " 3936740: 865,\n",
       " 1364770: 866,\n",
       " 4143719: 867,\n",
       " 541642: 868,\n",
       " 2528212: 869,\n",
       " 2082089: 870,\n",
       " 4277856: 871,\n",
       " 10328139: 872,\n",
       " 8695943: 873,\n",
       " 19134923: 874,\n",
       " 31136: 875,\n",
       " 1273496: 876,\n",
       " 26658618: 877,\n",
       " 1273494: 878,\n",
       " 23961650: 879,\n",
       " 8401387: 880,\n",
       " 32580654: 881,\n",
       " 17437489: 882,\n",
       " 201448: 883,\n",
       " 350629: 884,\n",
       " 14445050: 885,\n",
       " 903140: 886,\n",
       " 4018828: 887,\n",
       " 709318: 888,\n",
       " 21404478: 889,\n",
       " 3730809: 890,\n",
       " 4248608: 891,\n",
       " 15313487: 892,\n",
       " 320502: 893,\n",
       " 2469444: 894,\n",
       " 320500: 895,\n",
       " 23218277: 896,\n",
       " 12929714: 897,\n",
       " 9822793: 898,\n",
       " 29754100: 899,\n",
       " 3623294: 900,\n",
       " 9446254: 901,\n",
       " 282964: 902,\n",
       " 129602: 903,\n",
       " 12010187: 904,\n",
       " 23681959: 905,\n",
       " 6257968: 906,\n",
       " 8085358: 907,\n",
       " 5767035: 908,\n",
       " 3717574: 909,\n",
       " 1051729: 910,\n",
       " 2929705: 911,\n",
       " 1712658: 912,\n",
       " 633832: 913,\n",
       " 5305513: 914,\n",
       " 2763233: 915,\n",
       " 12530079: 916,\n",
       " 18407765: 917,\n",
       " 1312930: 918,\n",
       " 11723307: 919,\n",
       " 1232511: 920,\n",
       " 2311219: 921,\n",
       " 29603709: 922,\n",
       " 1118809: 923,\n",
       " 27756613: 924,\n",
       " 177740: 925,\n",
       " 3021304: 926,\n",
       " 2828945: 927,\n",
       " 3007634: 928,\n",
       " 76335: 929,\n",
       " 5501567: 930,\n",
       " 561315: 931,\n",
       " 15336744: 932,\n",
       " 4539015: 933,\n",
       " 2302751: 934,\n",
       " 3096943: 935,\n",
       " 15689876: 936,\n",
       " 14442254: 937,\n",
       " 1322542: 938,\n",
       " 2540786: 939,\n",
       " 6856411: 940,\n",
       " 6882738: 941,\n",
       " 22267013: 942,\n",
       " 16125220: 943,\n",
       " 26342915: 944,\n",
       " 7194265: 945,\n",
       " 897540: 946,\n",
       " 20822165: 947,\n",
       " 26717073: 948,\n",
       " 143259: 949,\n",
       " 11883104: 950,\n",
       " 13333148: 951,\n",
       " 12433713: 952,\n",
       " 4053005: 953,\n",
       " 1934977: 954,\n",
       " 18070610: 955,\n",
       " 369682: 956,\n",
       " 26137623: 957,\n",
       " 9415710: 958,\n",
       " 1056686: 959,\n",
       " 4192920: 960,\n",
       " 4727: 961,\n",
       " 3681867: 962,\n",
       " 32832973: 963,\n",
       " 1769468: 964,\n",
       " 1041202: 965,\n",
       " 36190244: 966,\n",
       " 18940234: 967,\n",
       " 24771643: 968,\n",
       " 7950163: 969,\n",
       " 18798887: 970,\n",
       " 217793: 971,\n",
       " 2295405: 972,\n",
       " 30920276: 973,\n",
       " 15047111: 974,\n",
       " 2966368: 975,\n",
       " 34548548: 976,\n",
       " 18963606: 977,\n",
       " 11030287: 978,\n",
       " 3077365: 979,\n",
       " 2685725: 980,\n",
       " 18979350: 981,\n",
       " 1278961: 982,\n",
       " 20098320: 983,\n",
       " 15337018: 984,\n",
       " 27995999: 985,\n",
       " 887457: 986,\n",
       " 2773227: 987,\n",
       " 7079954: 988,\n",
       " 901907: 989,\n",
       " 2632306: 990,\n",
       " 26008996: 991,\n",
       " 1830725: 992,\n",
       " 12613761: 993,\n",
       " 4091758: 994,\n",
       " 2563340: 995,\n",
       " 18599377: 996,\n",
       " 1358544: 997,\n",
       " 73977: 998,\n",
       " 11830931: 999,\n",
       " ...}"
      ]
     },
     "execution_count": 132,
     "metadata": {},
     "output_type": "execute_result"
    }
   ],
   "source": [
    "lightfm_mapping['items_mapping']"
   ]
  },
  {
   "cell_type": "code",
   "execution_count": 23,
   "id": "34e7f9e6",
   "metadata": {},
   "outputs": [],
   "source": [
    "# 2 подход - через svd подставить 1 - первуб матрицу, 2 - третья матрица\n",
    "user_similarity = pairwise_distances(matrix_train, metric='cosine')\n",
    "item_similarity = pairwise_distances(matrix_train.T, metric='cosine')\n",
    "\n",
    "n_users = matrix_train.shape[0]\n",
    "n_movies = matrix_train.shape[1]"
   ]
  },
  {
   "cell_type": "code",
   "execution_count": 16,
   "id": "f1197b85-2ee2-4270-82ff-f6ca74dac93a",
   "metadata": {},
   "outputs": [
    {
     "name": "stdout",
     "output_type": "stream",
     "text": [
      "good\n"
     ]
    }
   ],
   "source": [
    "# 2 подход - через svd подставить 1 - первуб матрицу, 2 - третья матрица\n",
    "user_similarity = pairwise_distances(weights_train, metric='cosine')\n",
    "print('good')\n",
    "item_similarity = pairwise_distances(weights_train.T, metric='cosine')\n",
    "\n",
    "n_users = weights_train.shape[0]\n",
    "n_movies = weights_train.shape[1]"
   ]
  },
  {
   "cell_type": "code",
   "execution_count": 24,
   "id": "b0c03509-e1cc-4855-90a1-5fd4ce1807de",
   "metadata": {},
   "outputs": [
    {
     "data": {
      "text/plain": [
       "9452"
      ]
     },
     "execution_count": 24,
     "metadata": {},
     "output_type": "execute_result"
    }
   ],
   "source": [
    "n_users"
   ]
  },
  {
   "cell_type": "code",
   "execution_count": 25,
   "id": "ab422a3a-59dd-4023-923b-dfc8e5c87c03",
   "metadata": {},
   "outputs": [
    {
     "data": {
      "text/plain": [
       "18401"
      ]
     },
     "execution_count": 25,
     "metadata": {},
     "output_type": "execute_result"
    }
   ],
   "source": [
    "n_movies"
   ]
  },
  {
   "cell_type": "code",
   "execution_count": 26,
   "id": "864d9804-e954-44ae-a629-026b9abfff62",
   "metadata": {},
   "outputs": [
    {
     "data": {
      "text/plain": [
       "(9452, 9452)"
      ]
     },
     "execution_count": 26,
     "metadata": {},
     "output_type": "execute_result"
    }
   ],
   "source": [
    "user_similarity.shape"
   ]
  },
  {
   "cell_type": "markdown",
   "id": "f3ede3f0",
   "metadata": {},
   "source": [
    "### Наивный подход\n",
    "\n",
    "Средняя оценка топ N похожих юзеров"
   ]
  },
  {
   "cell_type": "markdown",
   "id": "bf040f4b",
   "metadata": {},
   "source": [
    "$$\n",
    "r_{u,i} = \\frac{\\sum_{u' \\in U} r_{u',i}}{N}\n",
    "$$"
   ]
  },
  {
   "cell_type": "code",
   "execution_count": 164,
   "id": "369ec18a",
   "metadata": {},
   "outputs": [],
   "source": [
    "def naive_predict(top):\n",
    "    top_similar_ratings = np.zeros((n_users, top, n_movies))\n",
    "    for i in tqdm(range(n_users)):\n",
    "        top_sim_users = user_similarity[i].argsort()[1:top + 1]\n",
    "        top_similar_ratings[i] = matrix_train.values[top_sim_users]\n",
    "        \n",
    "    pred = np.zeros((n_users, n_movies))\n",
    "    for i in range(n_users):\n",
    "        pred[i] = top_similar_ratings[i].sum(axis=0) / top\n",
    "    \n",
    "    return pred\n",
    "\n",
    "def naive_predict_item(top):\n",
    "    top_similar_ratings = np.zeros((n_movies, top, n_users))\n",
    "\n",
    "    for i in tqdm(range(n_movies)):\n",
    "        top_sim_movies = item_similarity[i].argsort()[1:top + 1]\n",
    "        top_similar_ratings[i] = matrix_train.values.T[top_sim_movies]\n",
    "        \n",
    "    pred = np.zeros((n_movies, n_users))\n",
    "    for i in range(n_movies):\n",
    "        pred[i] = top_similar_ratings[i].sum(axis=0) / top\n",
    "    \n",
    "    return pred.T"
   ]
  },
  {
   "cell_type": "code",
   "execution_count": 165,
   "id": "8758b4cd",
   "metadata": {},
   "outputs": [
    {
     "name": "stderr",
     "output_type": "stream",
     "text": [
      "100%|██████████████████████████████████████████████████████████████████████████████| 9452/9452 [42:55<00:00,  3.67it/s]\n",
      "100%|██████████████████████████████████████████████████████████████████████████| 18401/18401 [1:30:29<00:00,  3.39it/s]\n"
     ]
    }
   ],
   "source": [
    "# %%time\n",
    "pred_user = naive_predict(10)\n",
    "pred_item = naive_predict_item(10)"
   ]
  },
  {
   "cell_type": "code",
   "execution_count": 166,
   "id": "ba9e5ab5",
   "metadata": {},
   "outputs": [
    {
     "name": "stdout",
     "output_type": "stream",
     "text": [
      "User-based CF RMSE: 2.155137017146241\n",
      "Item-based CF RMSE: 1.7518084185891054\n"
     ]
    }
   ],
   "source": [
    "print('User-based CF RMSE: ' + str(rmse(pred_user, matrix_test.values)))\n",
    "print('Item-based CF RMSE: ' + str(rmse(pred_item, matrix_test.values)))"
   ]
  },
  {
   "cell_type": "code",
   "execution_count": 167,
   "id": "498dd90d",
   "metadata": {},
   "outputs": [
    {
     "name": "stdout",
     "output_type": "stream",
     "text": [
      "User-based MAP@k: 0.03622064450180269\n",
      "Item-based MAP@k: 0.019514149631853724\n"
     ]
    }
   ],
   "source": [
    "all_mapk = []\n",
    "for actual, predicted in generate_predictions_and_actuals_mapk(pred_user, csr_matrix(matrix_test), relevance_threshold=4, k=10, batch_size=1000):\n",
    "    current_mapk = batch_mapk(actual, predicted, k=10)\n",
    "    all_mapk.append(current_mapk)\n",
    "\n",
    "print(\"User-based MAP@k:\", np.mean(all_mapk))\n",
    "\n",
    "all_mapk = []\n",
    "for actual, predicted in generate_predictions_and_actuals_mapk(pred_item, csr_matrix(matrix_test), relevance_threshold=4, k=10, batch_size=1000):\n",
    "    current_mapk = batch_mapk(actual, predicted, k=10)\n",
    "    all_mapk.append(current_mapk)\n",
    "\n",
    "print(\"Item-based MAP@k:\", np.mean(all_mapk))"
   ]
  },
  {
   "cell_type": "code",
   "execution_count": 168,
   "id": "85b362ea",
   "metadata": {},
   "outputs": [
    {
     "name": "stdout",
     "output_type": "stream",
     "text": [
      "User-based Средний NDCG@10: 0.4166974746409462\n",
      "Item-based Средний NDCG@10: 0.20972063765445617\n"
     ]
    }
   ],
   "source": [
    "all_ndcg_scores = []\n",
    "for actual, predictions in generate_predictions_and_actuals_ndcg(pred_user, csr_matrix(matrix_test), batch_size=1000, k=10):\n",
    "    ndcg_score = ndcg_at_k(actual, predictions, k=10)\n",
    "    all_ndcg_scores.append(ndcg_score)\n",
    "mean_ndcg = np.mean(all_ndcg_scores)\n",
    "print(f\"User-based Средний NDCG@{10}: {mean_ndcg}\")\n",
    "\n",
    "all_ndcg_scores = []\n",
    "for actual, predictions in generate_predictions_and_actuals_ndcg(pred_item, csr_matrix(matrix_test), batch_size=1000, k=10):\n",
    "    ndcg_score = ndcg_at_k(actual, predictions, k=10)\n",
    "    all_ndcg_scores.append(ndcg_score)\n",
    "\n",
    "mean_ndcg = np.mean(all_ndcg_scores)\n",
    "print(f\"Item-based Средний NDCG@{10}: {mean_ndcg}\")"
   ]
  },
  {
   "cell_type": "markdown",
   "id": "1657eca1",
   "metadata": {},
   "source": [
    "### На основе средних оценок пользователей и матрицы “похожести”"
   ]
  },
  {
   "cell_type": "markdown",
   "id": "08eef0db",
   "metadata": {},
   "source": [
    "$$\n",
    "r_{u,i} = \\bar r_u + \\frac{\\sum_{u' \\in U} simil(u, u') \\cdot (r_{u',i} - \\bar r_{u'})}{\\sum_{u' \\in U} \\left|simil(u, u')\\right|}\n",
    "$$"
   ]
  },
  {
   "cell_type": "code",
   "execution_count": 27,
   "id": "ef57fda6",
   "metadata": {},
   "outputs": [],
   "source": [
    "def predict(ratings, similarity, type='user'):\n",
    "    if type == 'user':\n",
    "        mean_user_rating = ratings.mean(axis=1)\n",
    "        ratings_diff = (ratings - mean_user_rating[:, np.newaxis]) \n",
    "        pred = mean_user_rating[:, np.newaxis] + similarity.dot(ratings_diff) / np.array([np.abs(similarity).sum(axis=1)]).T\n",
    "    elif type == 'item':\n",
    "        pred = ratings.dot(similarity) / np.array([np.abs(similarity).sum(axis=1)])     \n",
    "    return pred"
   ]
  },
  {
   "cell_type": "code",
   "execution_count": 28,
   "id": "d7a461eb-6908-4ba1-ae02-f35519af4e6a",
   "metadata": {},
   "outputs": [],
   "source": [
    "matrix_train = pd.DataFrame.sparse.from_spmatrix(weights_train)\n",
    "matrix_test = pd.DataFrame.sparse.from_spmatrix(weights_test)"
   ]
  },
  {
   "cell_type": "code",
   "execution_count": 29,
   "id": "2de977ec",
   "metadata": {},
   "outputs": [
    {
     "name": "stdout",
     "output_type": "stream",
     "text": [
      "CPU times: total: 2min 30s\n",
      "Wall time: 15.6 s\n"
     ]
    }
   ],
   "source": [
    "%%time\n",
    "pred_item_mean = predict(matrix_train.values, item_similarity, type='item')\n",
    "pred_user_mean = predict(matrix_train.values, user_similarity, type='user')"
   ]
  },
  {
   "cell_type": "code",
   "execution_count": 30,
   "id": "36ff0bb6",
   "metadata": {},
   "outputs": [
    {
     "name": "stdout",
     "output_type": "stream",
     "text": [
      "User-based CF RMSE: 2.71505222755063\n",
      "Item-based CF RMSE: 3.3548775308601524\n"
     ]
    }
   ],
   "source": [
    "print('User-based CF RMSE: ' + str(rmse(pred_user_mean, matrix_test.values)))\n",
    "print('Item-based CF RMSE: ' + str(rmse(pred_item_mean, matrix_test.values)))"
   ]
  },
  {
   "cell_type": "code",
   "execution_count": 31,
   "id": "bcb93000-440e-40da-9765-19e957010957",
   "metadata": {},
   "outputs": [
    {
     "name": "stdout",
     "output_type": "stream",
     "text": [
      "User-based MAP@k: 0.05298589031016373\n",
      "Item-based MAP@k: 2.0000000000000003e-06\n"
     ]
    }
   ],
   "source": [
    "all_mapk = []\n",
    "for actual, predicted in generate_predictions_and_actuals_mapk(pred_user_mean, csr_matrix(matrix_test), relevance_threshold=4, k=10, batch_size=1000):\n",
    "    current_mapk = batch_mapk(actual, predicted, k=10)\n",
    "    all_mapk.append(current_mapk)\n",
    "\n",
    "print(\"User-based MAP@k:\", np.mean(all_mapk))\n",
    "\n",
    "all_mapk = []\n",
    "for actual, predicted in generate_predictions_and_actuals_mapk(pred_item_mean, csr_matrix(matrix_test), relevance_threshold=4, k=10, batch_size=1000):\n",
    "    current_mapk = batch_mapk(actual, predicted, k=10)\n",
    "    all_mapk.append(current_mapk)\n",
    "\n",
    "print(\"Item-based MAP@k:\", np.mean(all_mapk))"
   ]
  },
  {
   "cell_type": "code",
   "execution_count": 38,
   "id": "097f90f0",
   "metadata": {},
   "outputs": [
    {
     "name": "stdout",
     "output_type": "stream",
     "text": [
      "User-based Средний NDCG@10: 0.3013336482441426\n",
      "Item-based Средний NDCG@10: 0.0\n"
     ]
    }
   ],
   "source": [
    "all_ndcg_scores = []\n",
    "for actual, predictions in generate_predictions_and_actuals_ndcg(pred_user_mean, csr_matrix(matrix_test), batch_size=1000, k=10):\n",
    "    ndcg_score = ndcg_at_k(actual, predictions, k=10)\n",
    "    all_ndcg_scores.append(ndcg_score)\n",
    "mean_ndcg = np.mean(all_ndcg_scores)\n",
    "print(f\"User-based Средний NDCG@{10}: {mean_ndcg}\")\n",
    "\n",
    "all_ndcg_scores = []\n",
    "for actual, predictions in generate_predictions_and_actuals_ndcg(pred_item_mean, csr_matrix(matrix_test), batch_size=1000, k=10):\n",
    "    ndcg_score = ndcg_at_k(actual, predictions, k=10)\n",
    "    all_ndcg_scores.append(ndcg_score)\n",
    "\n",
    "mean_ndcg = np.mean(all_ndcg_scores)\n",
    "print(f\"Item-based Средний NDCG@{10}: {mean_ndcg}\")"
   ]
  },
  {
   "cell_type": "markdown",
   "id": "945e4660-b9b3-4529-a203-e050abe76dc5",
   "metadata": {},
   "source": [
    "### PCA"
   ]
  },
  {
   "cell_type": "code",
   "execution_count": 76,
   "id": "c09d40e3-f638-49c4-9460-9237e2411702",
   "metadata": {},
   "outputs": [
    {
     "name": "stdout",
     "output_type": "stream",
     "text": [
      "[0.05201892 0.03886896 0.02661655 ... 0.00015905 0.00015898 0.00015886]\n"
     ]
    }
   ],
   "source": [
    "# PCA\n",
    "import numpy as np\n",
    "from sklearn.decomposition import PCA\n",
    "\n",
    "\n",
    "pca = PCA(n_components=0.8)\n",
    "pca.fit(matrix_train.values)\n",
    "print(pca.explained_variance_ratio_)\n",
    "#print(pca.singular_values_)"
   ]
  },
  {
   "cell_type": "code",
   "execution_count": 83,
   "id": "2629af89-35c2-4ba3-8031-530981ccce6b",
   "metadata": {},
   "outputs": [
    {
     "data": {
      "text/plain": [
       "0.53333205"
      ]
     },
     "execution_count": 83,
     "metadata": {},
     "output_type": "execute_result"
    }
   ],
   "source": [
    "pca.explained_variance_ratio_[:500].sum()"
   ]
  },
  {
   "cell_type": "markdown",
   "id": "aa78678e",
   "metadata": {},
   "source": [
    "### Model-based Collaborative Filtering"
   ]
  },
  {
   "cell_type": "markdown",
   "id": "ad4ab32a",
   "metadata": {},
   "source": [
    "$\n",
    "X = USV_T\n",
    "$\n",
    "\n",
    "$USV_T \\approx X'$ , X' - приближение матрицы X\n"
   ]
  },
  {
   "cell_type": "code",
   "execution_count": 84,
   "id": "5eb95e05",
   "metadata": {},
   "outputs": [
    {
     "name": "stdout",
     "output_type": "stream",
     "text": [
      "CPU times: total: 4min 19s\n",
      "Wall time: 1min 23s\n"
     ]
    }
   ],
   "source": [
    "%%time\n",
    "u, s, vt = svds(matrix_train.values, k=500)\n",
    "s_diag_matrix = np.diag(s)\n",
    "X_pred = np.dot(np.dot(u, s_diag_matrix), vt)"
   ]
  },
  {
   "cell_type": "code",
   "execution_count": 85,
   "id": "0e27daf7",
   "metadata": {},
   "outputs": [
    {
     "name": "stdout",
     "output_type": "stream",
     "text": [
      "CF MSE: 2.7714053163549988\n"
     ]
    }
   ],
   "source": [
    "print('CF MSE: ' + str(rmse(X_pred, matrix_test.values)))"
   ]
  },
  {
   "cell_type": "code",
   "execution_count": 68,
   "id": "f8798f8f",
   "metadata": {},
   "outputs": [
    {
     "name": "stdout",
     "output_type": "stream",
     "text": [
      "Final MAP@k: 0.03792255653591328\n"
     ]
    }
   ],
   "source": [
    "# k=10\n",
    "all_mapk = []\n",
    "for actual, predicted in generate_predictions_and_actuals_mapk(X_pred, csr_matrix(matrix_test), relevance_threshold=4, k=10, batch_size=1000):\n",
    "    current_mapk = batch_mapk(actual, predicted, k=10)\n",
    "    all_mapk.append(current_mapk)\n",
    "\n",
    "print(\"Final MAP@k:\", np.mean(all_mapk))"
   ]
  },
  {
   "cell_type": "code",
   "execution_count": 69,
   "id": "b4351266",
   "metadata": {},
   "outputs": [
    {
     "name": "stdout",
     "output_type": "stream",
     "text": [
      "Средний NDCG@10: 0.3895810248335271\n"
     ]
    }
   ],
   "source": [
    "# k=10\n",
    "all_ndcg_scores = []\n",
    "for actual, predictions in generate_predictions_and_actuals_ndcg(X_pred, csr_matrix(matrix_test), batch_size=1000, k=10):\n",
    "    ndcg_score = ndcg_at_k(actual, predictions, k=10)\n",
    "    all_ndcg_scores.append(ndcg_score)\n",
    "mean_ndcg = np.mean(all_ndcg_scores)\n",
    "print(f\"Средний NDCG@{10}: {mean_ndcg}\")"
   ]
  },
  {
   "cell_type": "code",
   "execution_count": 72,
   "id": "bd4a71a2-44a0-47d9-a137-089ee09ef9de",
   "metadata": {},
   "outputs": [
    {
     "name": "stdout",
     "output_type": "stream",
     "text": [
      "Final MAP@k: 0.031084254904297025\n"
     ]
    }
   ],
   "source": [
    "# k=100\n",
    "all_mapk = []\n",
    "for actual, predicted in generate_predictions_and_actuals_mapk(X_pred, csr_matrix(matrix_test), relevance_threshold=4, k=10, batch_size=1000):\n",
    "    current_mapk = batch_mapk(actual, predicted, k=10)\n",
    "    all_mapk.append(current_mapk)\n",
    "\n",
    "print(\"Final MAP@k:\", np.mean(all_mapk))"
   ]
  },
  {
   "cell_type": "code",
   "execution_count": 73,
   "id": "bcf002f6-c187-492d-917d-cbe5751199ad",
   "metadata": {},
   "outputs": [
    {
     "name": "stdout",
     "output_type": "stream",
     "text": [
      "Средний NDCG@10: 0.393674405982534\n"
     ]
    }
   ],
   "source": [
    "# k=100\n",
    "all_ndcg_scores = []\n",
    "for actual, predictions in generate_predictions_and_actuals_ndcg(X_pred, csr_matrix(matrix_test), batch_size=1000, k=10):\n",
    "    ndcg_score = ndcg_at_k(actual, predictions, k=10)\n",
    "    all_ndcg_scores.append(ndcg_score)\n",
    "mean_ndcg = np.mean(all_ndcg_scores)\n",
    "print(f\"Средний NDCG@{10}: {mean_ndcg}\")"
   ]
  },
  {
   "cell_type": "code",
   "execution_count": 86,
   "id": "67515b99-1638-43d9-a391-8fec6693d00f",
   "metadata": {},
   "outputs": [
    {
     "name": "stdout",
     "output_type": "stream",
     "text": [
      "Final MAP@k: 0.023861425319177162\n"
     ]
    }
   ],
   "source": [
    "# k=500\n",
    "all_mapk = []\n",
    "for actual, predicted in generate_predictions_and_actuals_mapk(X_pred, csr_matrix(matrix_test), relevance_threshold=4, k=10, batch_size=1000):\n",
    "    current_mapk = batch_mapk(actual, predicted, k=10)\n",
    "    all_mapk.append(current_mapk)\n",
    "\n",
    "print(\"Final MAP@k:\", np.mean(all_mapk))"
   ]
  },
  {
   "cell_type": "code",
   "execution_count": 88,
   "id": "7fb2ac31-b22b-42ca-9a2d-8a9ca9ba25aa",
   "metadata": {},
   "outputs": [
    {
     "name": "stdout",
     "output_type": "stream",
     "text": [
      "Средний NDCG@10: 0.4142432285035184\n"
     ]
    }
   ],
   "source": [
    "# k=500\n",
    "all_ndcg_scores = []\n",
    "for actual, predictions in generate_predictions_and_actuals_ndcg(X_pred, csr_matrix(matrix_test), batch_size=1000, k=10):\n",
    "    ndcg_score = ndcg_at_k(actual, predictions, k=10)\n",
    "    all_ndcg_scores.append(ndcg_score)\n",
    "mean_ndcg = np.mean(all_ndcg_scores)\n",
    "print(f\"Средний NDCG@{10}: {mean_ndcg}\")"
   ]
  },
  {
   "cell_type": "code",
   "execution_count": null,
   "id": "966a7ada-d7f1-4932-ae32-62c5ffd3d30d",
   "metadata": {},
   "outputs": [],
   "source": []
  },
  {
   "cell_type": "code",
   "execution_count": null,
   "id": "a9626a70-4e4c-4795-a1c8-a82672e95235",
   "metadata": {},
   "outputs": [],
   "source": []
  },
  {
   "cell_type": "code",
   "execution_count": null,
   "id": "092d738a-e21a-4475-a2dd-28b5bcedd41a",
   "metadata": {},
   "outputs": [],
   "source": []
  },
  {
   "cell_type": "markdown",
   "id": "3bcad39f-d185-47f5-8135-13b37c0a11dc",
   "metadata": {},
   "source": [
    "## EASE"
   ]
  },
  {
   "cell_type": "code",
   "execution_count": 40,
   "id": "ccd54379-96e8-4fca-af01-00b60eaa5f36",
   "metadata": {},
   "outputs": [],
   "source": [
    "train_users = movies_ratings_train.userId.unique()\n",
    "test_users = movies_ratings_test.userId.unique()\n",
    "\n",
    "all_included = np.intersect1d(train_users, test_users)"
   ]
  },
  {
   "cell_type": "code",
   "execution_count": 41,
   "id": "7988964d-1b03-4ebb-a3dd-93e4e5661693",
   "metadata": {},
   "outputs": [],
   "source": [
    "train_df = movies_ratings_train.loc[movies_ratings_train.userId.isin(all_included)].copy()\n",
    "test_df = movies_ratings_test.loc[movies_ratings_test.userId.isin(all_included)].copy()"
   ]
  },
  {
   "cell_type": "code",
   "execution_count": 42,
   "id": "5b885039-41c6-4362-939a-0dc1342ddcae",
   "metadata": {},
   "outputs": [],
   "source": [
    "df = pd.concat([train_df, test_df])"
   ]
  },
  {
   "cell_type": "code",
   "execution_count": 43,
   "id": "077f58a1-819d-40b8-b004-9376c4131413",
   "metadata": {},
   "outputs": [
    {
     "data": {
      "text/html": [
       "<div>\n",
       "<style scoped>\n",
       "    .dataframe tbody tr th:only-of-type {\n",
       "        vertical-align: middle;\n",
       "    }\n",
       "\n",
       "    .dataframe tbody tr th {\n",
       "        vertical-align: top;\n",
       "    }\n",
       "\n",
       "    .dataframe thead th {\n",
       "        text-align: right;\n",
       "    }\n",
       "</style>\n",
       "<table border=\"1\" class=\"dataframe\">\n",
       "  <thead>\n",
       "    <tr style=\"text-align: right;\">\n",
       "      <th></th>\n",
       "      <th>Wikipedia_movie_ID</th>\n",
       "      <th>userId</th>\n",
       "      <th>rating</th>\n",
       "      <th>user_id</th>\n",
       "      <th>item_id</th>\n",
       "    </tr>\n",
       "  </thead>\n",
       "  <tbody>\n",
       "    <tr>\n",
       "      <th>684839</th>\n",
       "      <td>6135549</td>\n",
       "      <td>2975</td>\n",
       "      <td>4.0</td>\n",
       "      <td>1180</td>\n",
       "      <td>7051</td>\n",
       "    </tr>\n",
       "    <tr>\n",
       "      <th>3712333</th>\n",
       "      <td>32112949</td>\n",
       "      <td>135747</td>\n",
       "      <td>3.0</td>\n",
       "      <td>9149</td>\n",
       "      <td>498</td>\n",
       "    </tr>\n",
       "    <tr>\n",
       "      <th>3593833</th>\n",
       "      <td>31701975</td>\n",
       "      <td>260551</td>\n",
       "      <td>3.5</td>\n",
       "      <td>7736</td>\n",
       "      <td>2086</td>\n",
       "    </tr>\n",
       "    <tr>\n",
       "      <th>354263</th>\n",
       "      <td>1034719</td>\n",
       "      <td>194455</td>\n",
       "      <td>3.5</td>\n",
       "      <td>9260</td>\n",
       "      <td>722</td>\n",
       "    </tr>\n",
       "    <tr>\n",
       "      <th>4553633</th>\n",
       "      <td>277158</td>\n",
       "      <td>247573</td>\n",
       "      <td>1.0</td>\n",
       "      <td>3460</td>\n",
       "      <td>3708</td>\n",
       "    </tr>\n",
       "  </tbody>\n",
       "</table>\n",
       "</div>"
      ],
      "text/plain": [
       "         Wikipedia_movie_ID  userId  rating  user_id  item_id\n",
       "684839              6135549    2975     4.0     1180     7051\n",
       "3712333            32112949  135747     3.0     9149      498\n",
       "3593833            31701975  260551     3.5     7736     2086\n",
       "354263              1034719  194455     3.5     9260      722\n",
       "4553633              277158  247573     1.0     3460     3708"
      ]
     },
     "execution_count": 43,
     "metadata": {},
     "output_type": "execute_result"
    }
   ],
   "source": [
    "item2id = {k:v for v, k in enumerate(df.Wikipedia_movie_ID.unique())}\n",
    "user2id = {k:v for v, k in enumerate(df.userId.unique())}\n",
    "\n",
    "id2item = {k:v for v, k in item2id.items()}\n",
    "id2user = {k:v for v, k in user2id.items()}\n",
    "\n",
    "train_df['user_id'] = train_df.userId.apply(lambda x: user2id[x])\n",
    "train_df['item_id'] = train_df.Wikipedia_movie_ID.apply(lambda x: item2id[x])\n",
    "test_df['user_id'] = test_df.userId.apply(lambda x: user2id[x])\n",
    "test_df['item_id'] = test_df.Wikipedia_movie_ID.apply(lambda x: item2id[x])\n",
    "\n",
    "train_df.sample(5)"
   ]
  },
  {
   "cell_type": "code",
   "execution_count": 44,
   "id": "4f175edd-1e97-4858-ada8-323290f50ab6",
   "metadata": {},
   "outputs": [
    {
     "name": "stderr",
     "output_type": "stream",
     "text": [
      "C:\\Users\\kiril\\AppData\\Local\\Temp\\ipykernel_11916\\1174031457.py:6: DeprecationWarning: DataFrameGroupBy.apply operated on the grouping columns. This behavior is deprecated, and in a future version of pandas the grouping columns will be excluded from the operation. Either pass `include_groups=False` to exclude the groupings or explicitly select the grouping columns after groupby to silence this warning.\n",
      "  test_grouped = test_df.groupby('user_id').apply(\n"
     ]
    }
   ],
   "source": [
    "# train_grouped = movies_ratings_train.groupby('user_id').apply(\n",
    "#     lambda x: [t1 for t1 in zip(x.item_id)]).reset_index()\n",
    "\n",
    "# train_grouped.rename({0:'train_interactions'}, axis=1, inplace=True)\n",
    "\n",
    "test_grouped = test_df.groupby('user_id').apply(\n",
    "    lambda x: [t1 for t1 in zip(x.item_id)]).reset_index()\n",
    "\n",
    "test_grouped.rename({0:'test_interactions'}, axis=1, inplace=True)"
   ]
  },
  {
   "cell_type": "code",
   "execution_count": 45,
   "id": "72653b31-9c92-4ca6-873a-d1c3ce5872d4",
   "metadata": {},
   "outputs": [
    {
     "data": {
      "text/plain": [
       "<9452x18401 sparse matrix of type '<class 'numpy.float64'>'\n",
       "\twith 5780312 stored elements in COOrdinate format>"
      ]
     },
     "execution_count": 45,
     "metadata": {},
     "output_type": "execute_result"
    }
   ],
   "source": [
    "matrix = sp.coo_matrix(\n",
    "    (np.ones(train_df.shape[0]), (train_df['user_id'], train_df['item_id'])),\n",
    "    shape=(len(user2id), len(item2id)),\n",
    ")\n",
    "matrix"
   ]
  },
  {
   "cell_type": "code",
   "execution_count": 46,
   "id": "8ca15420-7ce0-403f-b956-334beaa52fb8",
   "metadata": {},
   "outputs": [
    {
     "name": "stdout",
     "output_type": "stream",
     "text": [
      "CPU times: total: 8min 43s\n",
      "Wall time: 54.2 s\n"
     ]
    }
   ],
   "source": [
    "%%time\n",
    "\n",
    "# Обучаем конечную модель\n",
    "# Мы взяли реализацию из RecBole\n",
    "# \n",
    "def fit_ease(X, reg_weight=100):\n",
    "    \n",
    " # gram matrix\n",
    "    G = X.T @ X\n",
    "\n",
    "    # add reg to diagonal\n",
    "    G += reg_weight * sp.identity(G.shape[0])\n",
    "\n",
    "    # convert to dense because inverse will be dense\n",
    "    G = G.todense()\n",
    "\n",
    "    # invert. this takes most of the time\n",
    "    P = np.linalg.inv(G)\n",
    "    B = P / (-np.diag(P))\n",
    "    # zero out diag\n",
    "    np.fill_diagonal(B, 0.)\n",
    "    \n",
    "    return B\n",
    "\n",
    "w = fit_ease(matrix)"
   ]
  },
  {
   "cell_type": "code",
   "execution_count": 56,
   "id": "d97faecc-9961-4c9b-bcb6-aba74d123129",
   "metadata": {},
   "outputs": [],
   "source": [
    "def get_preds(x, item2id, id2item):\n",
    "\n",
    "    user_items = [t[0] for t in x]\n",
    "    encoded = [item2id[t] for t in user_items if t in item2id]\n",
    "\n",
    "    # Составляем вектор интеракций человека\n",
    "    vector = np.zeros(len(item2id))\n",
    "    vector[encoded] = 1\n",
    "\n",
    "    vector = sp.csr_matrix(vector)\n",
    "\n",
    "    preds = np.array(vector.dot(w))[0]#.toarray()\n",
    "    preds[encoded==1] = -np.inf\n",
    "\n",
    "    # ranks = np.argsort(-preds)\n",
    "    # decoded = [id2item[t] for t in ranks][:10]\n",
    "    \n",
    "    return preds"
   ]
  },
  {
   "cell_type": "code",
   "execution_count": 57,
   "id": "d7f57353-720a-47c2-b868-a0bd27e659de",
   "metadata": {
    "scrolled": true
   },
   "outputs": [
    {
     "data": {
      "text/html": [
       "<div>\n",
       "<style scoped>\n",
       "    .dataframe tbody tr th:only-of-type {\n",
       "        vertical-align: middle;\n",
       "    }\n",
       "\n",
       "    .dataframe tbody tr th {\n",
       "        vertical-align: top;\n",
       "    }\n",
       "\n",
       "    .dataframe thead th {\n",
       "        text-align: right;\n",
       "    }\n",
       "</style>\n",
       "<table border=\"1\" class=\"dataframe\">\n",
       "  <thead>\n",
       "    <tr style=\"text-align: right;\">\n",
       "      <th></th>\n",
       "      <th>user_id</th>\n",
       "      <th>test_interactions</th>\n",
       "      <th>ease_preds</th>\n",
       "    </tr>\n",
       "  </thead>\n",
       "  <tbody>\n",
       "    <tr>\n",
       "      <th>0</th>\n",
       "      <td>0</td>\n",
       "      <td>[(1173,), (2007,), (1281,), (357,), (741,), (1...</td>\n",
       "      <td>[-0.02937505657436947, 0.003478014480497466, 0...</td>\n",
       "    </tr>\n",
       "    <tr>\n",
       "      <th>1</th>\n",
       "      <td>1</td>\n",
       "      <td>[(2913,), (5485,), (136,), (1908,), (1108,), (...</td>\n",
       "      <td>[0.0, 0.0, 0.0, 0.0, 0.0, 0.0, 0.0, 0.0, 0.0, ...</td>\n",
       "    </tr>\n",
       "    <tr>\n",
       "      <th>2</th>\n",
       "      <td>2</td>\n",
       "      <td>[(6635,), (94,), (4173,), (2312,), (5825,), (5...</td>\n",
       "      <td>[-0.030211751340364804, 0.02016465126562201, 0...</td>\n",
       "    </tr>\n",
       "    <tr>\n",
       "      <th>3</th>\n",
       "      <td>3</td>\n",
       "      <td>[(85,), (1353,), (1387,), (5203,), (2711,), (8...</td>\n",
       "      <td>[0.0, 0.0, 0.0, 0.0, 0.0, 0.0, 0.0, 0.0, 0.0, ...</td>\n",
       "    </tr>\n",
       "    <tr>\n",
       "      <th>4</th>\n",
       "      <td>4</td>\n",
       "      <td>[(2757,), (2609,), (1165,), (5655,), (874,), (...</td>\n",
       "      <td>[0.0, 0.0, 0.0, 0.0, 0.0, 0.0, 0.0, 0.0, 0.0, ...</td>\n",
       "    </tr>\n",
       "  </tbody>\n",
       "</table>\n",
       "</div>"
      ],
      "text/plain": [
       "   user_id                                  test_interactions  \\\n",
       "0        0  [(1173,), (2007,), (1281,), (357,), (741,), (1...   \n",
       "1        1  [(2913,), (5485,), (136,), (1908,), (1108,), (...   \n",
       "2        2  [(6635,), (94,), (4173,), (2312,), (5825,), (5...   \n",
       "3        3  [(85,), (1353,), (1387,), (5203,), (2711,), (8...   \n",
       "4        4  [(2757,), (2609,), (1165,), (5655,), (874,), (...   \n",
       "\n",
       "                                          ease_preds  \n",
       "0  [-0.02937505657436947, 0.003478014480497466, 0...  \n",
       "1  [0.0, 0.0, 0.0, 0.0, 0.0, 0.0, 0.0, 0.0, 0.0, ...  \n",
       "2  [-0.030211751340364804, 0.02016465126562201, 0...  \n",
       "3  [0.0, 0.0, 0.0, 0.0, 0.0, 0.0, 0.0, 0.0, 0.0, ...  \n",
       "4  [0.0, 0.0, 0.0, 0.0, 0.0, 0.0, 0.0, 0.0, 0.0, ...  "
      ]
     },
     "execution_count": 57,
     "metadata": {},
     "output_type": "execute_result"
    }
   ],
   "source": [
    "test_grouped['ease_preds'] = test_grouped.test_interactions.apply(lambda x: get_preds(x, item2id, id2item))\n",
    "test_grouped.head()"
   ]
  },
  {
   "cell_type": "code",
   "execution_count": 181,
   "id": "6569cc80-c8dc-471f-b23e-398e5365474f",
   "metadata": {},
   "outputs": [
    {
     "data": {
      "text/plain": [
       "(9452, 18401)"
      ]
     },
     "execution_count": 181,
     "metadata": {},
     "output_type": "execute_result"
    }
   ],
   "source": [
    "preds_ease = test_grouped['ease_preds'].to_numpy()\n",
    "shape = pred_item_mean.shape\n",
    "\n",
    "def transform_preds(preds_ease, target_shape):\n",
    "    flat_preds = []\n",
    "    for array in preds_ease:\n",
    "        flat_preds.extend(array)\n",
    "    \n",
    "    transformed = np.array(flat_preds).reshape(target_shape)\n",
    "    return transformed\n",
    "\n",
    "transformed_preds = transform_preds(preds_ease, shape)\n",
    "transformed_preds.shape"
   ]
  },
  {
   "cell_type": "markdown",
   "id": "3c8493cf-b729-4ff7-948b-80e87b4f7f13",
   "metadata": {},
   "source": [
    "### Делаем сопоставление между индексами в matrix_test и индексами предсказанных товаров"
   ]
  },
  {
   "cell_type": "code",
   "execution_count": 184,
   "id": "48967059-75c9-4d78-a339-caa14bab2fa7",
   "metadata": {},
   "outputs": [],
   "source": [
    "indexes = np.arange(0, transformed_preds.shape[1])\n",
    "pred_items_order = [lightfm_mapping['items_mapping'][id2item[t]] for t in indexes]\n",
    "sorted_indices = np.argsort(pred_items_order)\n",
    "transformed_preds = transformed_preds[:, sorted_indices]"
   ]
  },
  {
   "cell_type": "code",
   "execution_count": 185,
   "id": "b5c3e3f9-90f6-48b6-8140-4f86607a94d0",
   "metadata": {},
   "outputs": [
    {
     "name": "stdout",
     "output_type": "stream",
     "text": [
      "EASE MAP@k: 0.0035895901109706417\n",
      "EASE Средний NDCG@10: 0.18631967549391754\n"
     ]
    }
   ],
   "source": [
    "all_mapk = []\n",
    "for actual, predicted in generate_predictions_and_actuals_mapk(transformed_preds, csr_matrix(matrix_test), relevance_threshold=4, k=10, batch_size=1000):\n",
    "    current_mapk = batch_mapk(actual, predicted, k=10)\n",
    "    all_mapk.append(current_mapk)\n",
    "\n",
    "print(\"EASE MAP@k:\", np.mean(all_mapk))\n",
    "\n",
    "all_ndcg_scores = []\n",
    "for actual, predictions in generate_predictions_and_actuals_ndcg(transformed_preds, csr_matrix(matrix_test), batch_size=1000, k=10):\n",
    "    ndcg_score = ndcg_at_k(actual, predictions, k=10)\n",
    "    all_ndcg_scores.append(ndcg_score)\n",
    "\n",
    "mean_ndcg = np.mean(all_ndcg_scores)\n",
    "print(f\"EASE Средний NDCG@{10}: {mean_ndcg}\")"
   ]
  }
 ],
 "metadata": {
  "colab": {
   "provenance": []
  },
  "kernelspec": {
   "display_name": "Python 3 (ipykernel)",
   "language": "python",
   "name": "python3"
  },
  "language_info": {
   "codemirror_mode": {
    "name": "ipython",
    "version": 3
   },
   "file_extension": ".py",
   "mimetype": "text/x-python",
   "name": "python",
   "nbconvert_exporter": "python",
   "pygments_lexer": "ipython3",
   "version": "3.9.18"
  }
 },
 "nbformat": 4,
 "nbformat_minor": 5
}
