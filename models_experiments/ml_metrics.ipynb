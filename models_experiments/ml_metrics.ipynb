{
 "cells": [
  {
   "cell_type": "code",
   "execution_count": 2,
   "id": "614cab1b",
   "metadata": {
    "editable": true,
    "id": "614cab1b",
    "slideshow": {
     "slide_type": ""
    },
    "tags": []
   },
   "outputs": [],
   "source": [
    "import numpy as np\n",
    "import pandas as pd\n",
    "\n",
    "from tqdm import tqdm\n",
    "\n",
    "from sklearn.metrics import mean_squared_error\n",
    "from sklearn.model_selection import train_test_split\n",
    "from sklearn.metrics.pairwise import pairwise_distances\n",
    "\n",
    "from lightfm.data import Dataset\n",
    "\n",
    "from math import sqrt\n",
    "\n",
    "import scipy.sparse as sp\n",
    "from scipy.sparse.linalg import svds\n",
    "from scipy.sparse import csr_matrix\n",
    "import scipy "
   ]
  },
  {
   "cell_type": "markdown",
   "id": "fd3546f9-0077-4b2b-b53d-5440a8d6ef4a",
   "metadata": {},
   "source": [
    "# load long ratings matrix"
   ]
  },
  {
   "cell_type": "code",
   "execution_count": 2,
   "id": "b5245ec2-488d-4f99-aac4-b0ac1d9915fb",
   "metadata": {},
   "outputs": [
    {
     "data": {
      "text/html": [
       "<div>\n",
       "<style scoped>\n",
       "    .dataframe tbody tr th:only-of-type {\n",
       "        vertical-align: middle;\n",
       "    }\n",
       "\n",
       "    .dataframe tbody tr th {\n",
       "        vertical-align: top;\n",
       "    }\n",
       "\n",
       "    .dataframe thead th {\n",
       "        text-align: right;\n",
       "    }\n",
       "</style>\n",
       "<table border=\"1\" class=\"dataframe\">\n",
       "  <thead>\n",
       "    <tr style=\"text-align: right;\">\n",
       "      <th></th>\n",
       "      <th>Wikipedia_movie_ID</th>\n",
       "      <th>userId</th>\n",
       "      <th>rating</th>\n",
       "    </tr>\n",
       "  </thead>\n",
       "  <tbody>\n",
       "    <tr>\n",
       "      <th>0</th>\n",
       "      <td>975900</td>\n",
       "      <td>251</td>\n",
       "      <td>2.0</td>\n",
       "    </tr>\n",
       "    <tr>\n",
       "      <th>1</th>\n",
       "      <td>975900</td>\n",
       "      <td>741</td>\n",
       "      <td>2.5</td>\n",
       "    </tr>\n",
       "    <tr>\n",
       "      <th>2</th>\n",
       "      <td>975900</td>\n",
       "      <td>1888</td>\n",
       "      <td>3.5</td>\n",
       "    </tr>\n",
       "    <tr>\n",
       "      <th>3</th>\n",
       "      <td>975900</td>\n",
       "      <td>1932</td>\n",
       "      <td>1.5</td>\n",
       "    </tr>\n",
       "    <tr>\n",
       "      <th>4</th>\n",
       "      <td>975900</td>\n",
       "      <td>2547</td>\n",
       "      <td>2.5</td>\n",
       "    </tr>\n",
       "    <tr>\n",
       "      <th>...</th>\n",
       "      <td>...</td>\n",
       "      <td>...</td>\n",
       "      <td>...</td>\n",
       "    </tr>\n",
       "    <tr>\n",
       "      <th>7225385</th>\n",
       "      <td>34980460</td>\n",
       "      <td>143508</td>\n",
       "      <td>3.5</td>\n",
       "    </tr>\n",
       "    <tr>\n",
       "      <th>7225386</th>\n",
       "      <td>34980460</td>\n",
       "      <td>154703</td>\n",
       "      <td>3.0</td>\n",
       "    </tr>\n",
       "    <tr>\n",
       "      <th>7225387</th>\n",
       "      <td>34980460</td>\n",
       "      <td>172224</td>\n",
       "      <td>3.5</td>\n",
       "    </tr>\n",
       "    <tr>\n",
       "      <th>7225388</th>\n",
       "      <td>34980460</td>\n",
       "      <td>201236</td>\n",
       "      <td>3.5</td>\n",
       "    </tr>\n",
       "    <tr>\n",
       "      <th>7225389</th>\n",
       "      <td>34980460</td>\n",
       "      <td>231356</td>\n",
       "      <td>4.0</td>\n",
       "    </tr>\n",
       "  </tbody>\n",
       "</table>\n",
       "<p>7225390 rows × 3 columns</p>\n",
       "</div>"
      ],
      "text/plain": [
       "         Wikipedia_movie_ID  userId  rating\n",
       "0                    975900     251     2.0\n",
       "1                    975900     741     2.5\n",
       "2                    975900    1888     3.5\n",
       "3                    975900    1932     1.5\n",
       "4                    975900    2547     2.5\n",
       "...                     ...     ...     ...\n",
       "7225385            34980460  143508     3.5\n",
       "7225386            34980460  154703     3.0\n",
       "7225387            34980460  172224     3.5\n",
       "7225388            34980460  201236     3.5\n",
       "7225389            34980460  231356     4.0\n",
       "\n",
       "[7225390 rows x 3 columns]"
      ]
     },
     "execution_count": 2,
     "metadata": {},
     "output_type": "execute_result"
    }
   ],
   "source": [
    "movies_ratings = pd.read_csv('long_ratings.csv')\n",
    "movies_ratings"
   ]
  },
  {
   "cell_type": "markdown",
   "id": "61cfe5b1",
   "metadata": {},
   "source": [
    "# metrics"
   ]
  },
  {
   "cell_type": "code",
   "execution_count": 3,
   "id": "ccc1e7a4",
   "metadata": {},
   "outputs": [],
   "source": [
    "def rmse(prediction, ground_truth):\n",
    "    prediction = np.nan_to_num(prediction)[ground_truth.nonzero()].flatten()\n",
    "    ground_truth = np.nan_to_num(ground_truth)[ground_truth.nonzero()].flatten()\n",
    "    mse = mean_squared_error(prediction, ground_truth)\n",
    "    \n",
    "    return sqrt(mse)"
   ]
  },
  {
   "cell_type": "code",
   "execution_count": 4,
   "id": "c9c3ea9f",
   "metadata": {},
   "outputs": [],
   "source": [
    "def apk(actual, predicted, k=3):\n",
    "    if len(predicted) > k:\n",
    "        predicted = predicted[:k]\n",
    "\n",
    "    score = 0.0\n",
    "    num_hits = 0.0\n",
    "\n",
    "    for i, p in enumerate(predicted):\n",
    "        if p in actual and p not in predicted[:i]:\n",
    "            num_hits += 1.0\n",
    "            score += num_hits / (i + 1.0)\n",
    "\n",
    "    if not actual:\n",
    "        return 0.0\n",
    "\n",
    "    return score / min(len(actual), k)\n",
    "\n",
    "\n",
    "def batch_mapk(actual, predicted, k=3):\n",
    "    all_apk = []\n",
    "    for act, pred in zip(actual, predicted):\n",
    "        all_apk.append(apk(act, pred, k))\n",
    "    return np.mean(all_apk)\n",
    "\n",
    "\n",
    "def generate_predictions_and_actuals_mapk(predicted_scores, user_item_matrix, relevance_threshold, k, batch_size=1000):\n",
    "    for i in range(0, user_item_matrix.shape[0], batch_size):\n",
    "        # Порция данных\n",
    "        user_batch = user_item_matrix[i:i + batch_size]\n",
    "\n",
    "        # Пример предсказаний модели: здесь надо заменить на настоящий вызов вашей модели\n",
    "        predicted = np.argsort(-predicted_scores)[:, :k]\n",
    "\n",
    "        # Определяем релевантные товары\n",
    "        actual = []\n",
    "        for user_id in range(user_batch.shape[0]):\n",
    "            user_row = user_batch[user_id]\n",
    "            relevant_indices = user_row.indices[user_row.data >= relevance_threshold]\n",
    "            actual.append(list(set(relevant_indices)))\n",
    "\n",
    "        yield actual, predicted"
   ]
  },
  {
   "cell_type": "code",
   "execution_count": 5,
   "id": "cf88960c",
   "metadata": {},
   "outputs": [],
   "source": [
    "def dcg_score(y_true, y_score, k=10, gains=\"exponential\"):\n",
    "    \"\"\"Discounted cumulative gain (DCG) at rank k\n",
    "    Parameters\n",
    "    ----------\n",
    "    y_true : array-like, shape = [n_samples]\n",
    "        Ground truth (true relevance labels).\n",
    "    y_score : array-like, shape = [n_samples]\n",
    "        Predicted scores.\n",
    "    k : int\n",
    "        Rank.\n",
    "    gains : str\n",
    "        Whether gains should be \"exponential\" (default) or \"linear\".\n",
    "    Returns\n",
    "    -------df\n",
    "    DCG @k : float\n",
    "    \"\"\"\n",
    "    order = np.argsort(y_score)[::-1]\n",
    "    y_true = np.take(y_true, order[:k])\n",
    "\n",
    "    if gains == \"exponential\":\n",
    "        gains = 2 ** y_true - 1\n",
    "    elif gains == \"linear\":\n",
    "        gains = y_true\n",
    "    else:\n",
    "        raise ValueError(\"Invalid gains option.\")\n",
    "\n",
    "    # highest rank is 1 so +2 instead of +1\n",
    "    discounts = np.log2(np.arange(len(y_true)) + 2)\n",
    "    return np.sum(gains / discounts)\n",
    "\n",
    "def ndcg_at_k(actual, predictions, k=10):\n",
    "    ndcg_scores = []\n",
    "    for (act_indices, act_scores), (pred_indices, pred_scores) in zip(actual, predictions):\n",
    "        mapping = dict(zip(act_indices, act_scores))\n",
    "        \n",
    "        for pred_idx_list, pred_score_list in zip(pred_indices, pred_scores):\n",
    "            # Формируем результирующий массив (соответствие исходных оценок предсказанным)\n",
    "            act_ratings = []\n",
    "            for idx in pred_idx_list:\n",
    "                if idx in mapping:\n",
    "                    act_ratings.append(mapping[idx])\n",
    "                else:\n",
    "                    act_ratings.append(0)\n",
    "            \n",
    "            dcg = dcg_score(act_ratings, pred_score_list, k)\n",
    "            idcg = dcg_score(act_ratings, act_ratings, k)\n",
    "            ndcg = dcg / idcg if idcg > 0 else 0\n",
    "    \n",
    "            ndcg_scores.append(ndcg)\n",
    "    return np.mean(ndcg_scores)\n",
    "\n",
    "# Генератор, выдающий батчи актуальных рейтингов и предсказаний модели\n",
    "def generate_predictions_and_actuals_ndcg(predicted_scores, user_item_matrix, batch_size, k):\n",
    "    for i in range(0, user_item_matrix.shape[0], batch_size):\n",
    "        user_batch = user_item_matrix[i:i + batch_size]\n",
    "\n",
    "        # Сюда подставить предсказания модели для нашего батча юзеров (массив)\n",
    "        predictions = []\n",
    "        predictions_ratings = np.array([np.sort(scores)[-k:][::-1] for scores in predicted_scores])\n",
    "        predictions_indices = np.argsort(-predicted_scores)[:, :k]\n",
    "        predictions.append((predictions_indices, predictions_ratings))\n",
    "\n",
    "        # Достаем релевантные товары для батча\n",
    "        actual = []\n",
    "        for user_id in range(user_batch.shape[0]):\n",
    "            user_row = user_batch.getrow(user_id)\n",
    "            # Реальные рейтинги для индексов, где они больше нуля\n",
    "            relevant_ratings = user_row.data\n",
    "            relevant_indices = user_row.indices\n",
    "            actual.append((relevant_indices, relevant_ratings))\n",
    "\n",
    "        yield actual, predictions"
   ]
  },
  {
   "cell_type": "code",
   "execution_count": 6,
   "id": "1466923d",
   "metadata": {},
   "outputs": [],
   "source": [
    "dataset = Dataset()\n",
    "dataset.fit(users=movies_ratings['userId'].unique(), items=movies_ratings['Wikipedia_movie_ID'].unique())"
   ]
  },
  {
   "cell_type": "code",
   "execution_count": 7,
   "id": "f4ec1cf0",
   "metadata": {},
   "outputs": [],
   "source": [
    "lightfm_mapping = dataset.mapping()\n",
    "lightfm_mapping = {\n",
    "    \"users_mapping\": lightfm_mapping[0],\n",
    "    \"user_features_mapping\": lightfm_mapping[1],\n",
    "    \"items_mapping\": lightfm_mapping[2],\n",
    "    \"item_features_mapping\": lightfm_mapping[3],\n",
    "}\n",
    "lightfm_mapping[\"users_inv_mapping\"] = {v: k for k, v in lightfm_mapping[\"users_mapping\"].items()}\n",
    "lightfm_mapping[\"items_inv_mapping\"] = {v: k for k, v in lightfm_mapping[\"items_mapping\"].items()}"
   ]
  },
  {
   "cell_type": "code",
   "execution_count": 8,
   "id": "314b41fa",
   "metadata": {},
   "outputs": [],
   "source": [
    "# lightfm_mapping[\"users_inv_mapping\"]"
   ]
  },
  {
   "cell_type": "code",
   "execution_count": 9,
   "id": "32544bf2",
   "metadata": {},
   "outputs": [
    {
     "data": {
      "text/plain": [
       "<Axes: >"
      ]
     },
     "execution_count": 9,
     "metadata": {},
     "output_type": "execute_result"
    },
    {
     "data": {
      "image/png": "[encoded data removed]",
      "text/plain": [
       "<Figure size 640x480 with 1 Axes>"
      ]
     },
     "metadata": {},
     "output_type": "display_data"
    }
   ],
   "source": [
    "movies_ratings.userId.hist(bins=200)"
   ]
  },
  {
   "cell_type": "markdown",
   "id": "c4287f00-8e75-48a4-a4ef-a87a5b856b77",
   "metadata": {},
   "source": [
    "movies_ratings_cols = ['userId', 'Wikipedia_movie_ID', 'rating']\n",
    "movies_ratings_train, movies_ratings_test = train_test_split(movies_ratings, \n",
    "                                                             test_size=0.2, \n",
    "                                                             random_state=42,\n",
    "                                                             stratify=movies_ratings.userId)"
   ]
  },
  {
   "cell_type": "markdown",
   "id": "b0011c5c-373e-4643-a4d0-bcb3423a5cdf",
   "metadata": {},
   "source": [
    "movies_ratings_train.to_csv('train_matrix.csv', index=False)\n",
    "movies_ratings_test.to_csv('test_matrix.csv', index=False)"
   ]
  },
  {
   "cell_type": "code",
   "execution_count": 9,
   "id": "790838e3-5c95-4e75-86b1-8d75aa69d594",
   "metadata": {},
   "outputs": [],
   "source": [
    "import pandas as pd\n",
    "movies_ratings_train = pd.read_csv('train_test/train_matrix.csv')\n",
    "movies_ratings_test = pd.read_csv('train_test/test_matrix.csv')"
   ]
  },
  {
   "cell_type": "code",
   "execution_count": 11,
   "id": "56e705ec-79e4-4c81-a637-451cad68c7b1",
   "metadata": {},
   "outputs": [
    {
     "data": {
      "text/plain": [
       "(5780312, 3)"
      ]
     },
     "execution_count": 11,
     "metadata": {},
     "output_type": "execute_result"
    }
   ],
   "source": [
    "movies_ratings_train.shape"
   ]
  },
  {
   "cell_type": "code",
   "execution_count": 12,
   "id": "b6575db6-6569-44f9-b53b-a0a16207ca39",
   "metadata": {},
   "outputs": [
    {
     "data": {
      "text/plain": [
       "(1445078, 3)"
      ]
     },
     "execution_count": 12,
     "metadata": {},
     "output_type": "execute_result"
    }
   ],
   "source": [
    "movies_ratings_test.shape"
   ]
  },
  {
   "cell_type": "code",
   "execution_count": 13,
   "id": "37d654c6-60d7-4c06-9579-d1d8ace6cfcf",
   "metadata": {},
   "outputs": [
    {
     "data": {
      "text/html": [
       "<div>\n",
       "<style scoped>\n",
       "    .dataframe tbody tr th:only-of-type {\n",
       "        vertical-align: middle;\n",
       "    }\n",
       "\n",
       "    .dataframe tbody tr th {\n",
       "        vertical-align: top;\n",
       "    }\n",
       "\n",
       "    .dataframe thead th {\n",
       "        text-align: right;\n",
       "    }\n",
       "</style>\n",
       "<table border=\"1\" class=\"dataframe\">\n",
       "  <thead>\n",
       "    <tr style=\"text-align: right;\">\n",
       "      <th></th>\n",
       "      <th>Wikipedia_movie_ID</th>\n",
       "      <th>userId</th>\n",
       "      <th>rating</th>\n",
       "    </tr>\n",
       "  </thead>\n",
       "  <tbody>\n",
       "    <tr>\n",
       "      <th>0</th>\n",
       "      <td>129524</td>\n",
       "      <td>118806</td>\n",
       "      <td>4.0</td>\n",
       "    </tr>\n",
       "    <tr>\n",
       "      <th>1</th>\n",
       "      <td>195388</td>\n",
       "      <td>2547</td>\n",
       "      <td>4.0</td>\n",
       "    </tr>\n",
       "    <tr>\n",
       "      <th>2</th>\n",
       "      <td>348292</td>\n",
       "      <td>99870</td>\n",
       "      <td>3.0</td>\n",
       "    </tr>\n",
       "    <tr>\n",
       "      <th>3</th>\n",
       "      <td>1065748</td>\n",
       "      <td>229710</td>\n",
       "      <td>3.5</td>\n",
       "    </tr>\n",
       "    <tr>\n",
       "      <th>4</th>\n",
       "      <td>20179720</td>\n",
       "      <td>233395</td>\n",
       "      <td>3.0</td>\n",
       "    </tr>\n",
       "    <tr>\n",
       "      <th>...</th>\n",
       "      <td>...</td>\n",
       "      <td>...</td>\n",
       "      <td>...</td>\n",
       "    </tr>\n",
       "    <tr>\n",
       "      <th>1445073</th>\n",
       "      <td>18618306</td>\n",
       "      <td>263311</td>\n",
       "      <td>4.0</td>\n",
       "    </tr>\n",
       "    <tr>\n",
       "      <th>1445074</th>\n",
       "      <td>14119255</td>\n",
       "      <td>118524</td>\n",
       "      <td>1.0</td>\n",
       "    </tr>\n",
       "    <tr>\n",
       "      <th>1445075</th>\n",
       "      <td>113651</td>\n",
       "      <td>73497</td>\n",
       "      <td>4.0</td>\n",
       "    </tr>\n",
       "    <tr>\n",
       "      <th>1445076</th>\n",
       "      <td>537416</td>\n",
       "      <td>110933</td>\n",
       "      <td>2.0</td>\n",
       "    </tr>\n",
       "    <tr>\n",
       "      <th>1445077</th>\n",
       "      <td>592297</td>\n",
       "      <td>207854</td>\n",
       "      <td>4.0</td>\n",
       "    </tr>\n",
       "  </tbody>\n",
       "</table>\n",
       "<p>1445078 rows × 3 columns</p>\n",
       "</div>"
      ],
      "text/plain": [
       "         Wikipedia_movie_ID  userId  rating\n",
       "0                    129524  118806     4.0\n",
       "1                    195388    2547     4.0\n",
       "2                    348292   99870     3.0\n",
       "3                   1065748  229710     3.5\n",
       "4                  20179720  233395     3.0\n",
       "...                     ...     ...     ...\n",
       "1445073            18618306  263311     4.0\n",
       "1445074            14119255  118524     1.0\n",
       "1445075              113651   73497     4.0\n",
       "1445076              537416  110933     2.0\n",
       "1445077              592297  207854     4.0\n",
       "\n",
       "[1445078 rows x 3 columns]"
      ]
     },
     "execution_count": 13,
     "metadata": {},
     "output_type": "execute_result"
    }
   ],
   "source": [
    "movies_ratings_test"
   ]
  },
  {
   "cell_type": "code",
   "execution_count": 10,
   "id": "8966dc02",
   "metadata": {},
   "outputs": [],
   "source": [
    "movies_ratings_cols = ['userId', 'Wikipedia_movie_ID', 'rating']\n",
    "X_train, weights_train = (\n",
    "    dataset.build_interactions([tuple(i) for i in movies_ratings_train[movies_ratings_cols].values]))\n",
    "X_test, weights_test = (\n",
    "    dataset.build_interactions([tuple(i) for i in movies_ratings_test[movies_ratings_cols].values]))"
   ]
  },
  {
   "cell_type": "code",
   "execution_count": 11,
   "id": "54a77c87",
   "metadata": {},
   "outputs": [],
   "source": [
    "matrix_train = pd.DataFrame.sparse.from_spmatrix(weights_train)\n",
    "matrix_test = pd.DataFrame.sparse.from_spmatrix(weights_test)"
   ]
  },
  {
   "cell_type": "code",
   "execution_count": 16,
   "id": "34e7f9e6",
   "metadata": {},
   "outputs": [],
   "source": [
    "# 2 подход - через svd подставить 1 - первуб матрицу, 2 - третья матрица\n",
    "user_similarity = pairwise_distances(matrix_train, metric='cosine')\n",
    "item_similarity = pairwise_distances(matrix_train.T, metric='cosine')\n",
    "\n",
    "n_users = matrix_train.shape[0]\n",
    "n_movies = matrix_train.shape[1]"
   ]
  },
  {
   "cell_type": "code",
   "execution_count": 17,
   "id": "b0c03509-e1cc-4855-90a1-5fd4ce1807de",
   "metadata": {},
   "outputs": [
    {
     "data": {
      "text/plain": [
       "9452"
      ]
     },
     "execution_count": 17,
     "metadata": {},
     "output_type": "execute_result"
    }
   ],
   "source": [
    "n_users"
   ]
  },
  {
   "cell_type": "code",
   "execution_count": 18,
   "id": "ab422a3a-59dd-4023-923b-dfc8e5c87c03",
   "metadata": {},
   "outputs": [
    {
     "data": {
      "text/plain": [
       "18401"
      ]
     },
     "execution_count": 18,
     "metadata": {},
     "output_type": "execute_result"
    }
   ],
   "source": [
    "n_movies"
   ]
  },
  {
   "cell_type": "code",
   "execution_count": 19,
   "id": "864d9804-e954-44ae-a629-026b9abfff62",
   "metadata": {},
   "outputs": [
    {
     "data": {
      "text/plain": [
       "(9452, 9452)"
      ]
     },
     "execution_count": 19,
     "metadata": {},
     "output_type": "execute_result"
    }
   ],
   "source": [
    "user_similarity.shape"
   ]
  },
  {
   "cell_type": "markdown",
   "id": "bf63c155-37a2-4179-8af4-7a61b4711034",
   "metadata": {},
   "source": [
    "# collaborative filtering models"
   ]
  },
  {
   "cell_type": "markdown",
   "id": "f3ede3f0",
   "metadata": {},
   "source": [
    "### Наивный подход\n",
    "\n",
    "Средняя оценка топ N похожих юзеров"
   ]
  },
  {
   "cell_type": "markdown",
   "id": "bf040f4b",
   "metadata": {},
   "source": [
    "$$\n",
    "r_{u,i} = \\frac{\\sum_{u' \\in U} r_{u',i}}{N}\n",
    "$$"
   ]
  },
  {
   "cell_type": "code",
   "execution_count": 20,
   "id": "369ec18a",
   "metadata": {},
   "outputs": [],
   "source": [
    "def naive_predict(top):\n",
    "    top_similar_ratings = np.zeros((n_users, top, n_movies))\n",
    "    for i in tqdm(range(n_users)):\n",
    "        top_sim_users = user_similarity[i].argsort()[1:top + 1]\n",
    "        top_similar_ratings[i] = matrix_train.values[top_sim_users]\n",
    "        \n",
    "    pred = np.zeros((n_users, n_movies))\n",
    "    for i in range(n_users):\n",
    "        pred[i] = top_similar_ratings[i].sum(axis=0) / top\n",
    "    \n",
    "    return pred\n",
    "\n",
    "def naive_predict_item(top):\n",
    "    top_similar_ratings = np.zeros((n_movies, top, n_users))\n",
    "\n",
    "    for i in tqdm(range(n_movies)):\n",
    "        top_sim_movies = item_similarity[i].argsort()[1:top + 1]\n",
    "        top_similar_ratings[i] = matrix_train.values.T[top_sim_movies]\n",
    "        \n",
    "    pred = np.zeros((n_movies, n_users))\n",
    "    for i in range(n_movies):\n",
    "        pred[i] = top_similar_ratings[i].sum(axis=0) / top\n",
    "    \n",
    "    return pred.T"
   ]
  },
  {
   "cell_type": "code",
   "execution_count": 21,
   "id": "8758b4cd",
   "metadata": {},
   "outputs": [
    {
     "name": "stderr",
     "output_type": "stream",
     "text": [
      "100%|██████████████████████████████████████████████████████████████████████████████| 9452/9452 [43:20<00:00,  3.63it/s]\n",
      "100%|██████████████████████████████████████████████████████████████████████████| 18401/18401 [1:26:41<00:00,  3.54it/s]\n"
     ]
    }
   ],
   "source": [
    "# %%time\n",
    "pred_user = naive_predict(10)\n",
    "pred_item = naive_predict_item(10)"
   ]
  },
  {
   "cell_type": "code",
   "execution_count": 22,
   "id": "ba9e5ab5",
   "metadata": {},
   "outputs": [
    {
     "name": "stdout",
     "output_type": "stream",
     "text": [
      "User-based CF RMSE: 2.155137017146241\n",
      "Item-based CF RMSE: 1.7518015007157046\n"
     ]
    }
   ],
   "source": [
    "print('User-based CF RMSE: ' + str(rmse(pred_user, matrix_test.values)))\n",
    "print('Item-based CF RMSE: ' + str(rmse(pred_item, matrix_test.values)))"
   ]
  },
  {
   "cell_type": "code",
   "execution_count": 23,
   "id": "498dd90d",
   "metadata": {},
   "outputs": [
    {
     "name": "stdout",
     "output_type": "stream",
     "text": [
      "User-based MAP@k: 0.03622064450180269\n",
      "Item-based MAP@k: 0.019590384641647546\n"
     ]
    }
   ],
   "source": [
    "all_mapk = []\n",
    "for actual, predicted in generate_predictions_and_actuals_mapk(pred_user, csr_matrix(matrix_test), relevance_threshold=4, k=10, batch_size=1000):\n",
    "    current_mapk = batch_mapk(actual, predicted, k=10)\n",
    "    all_mapk.append(current_mapk)\n",
    "\n",
    "print(\"User-based MAP@k:\", np.mean(all_mapk))\n",
    "\n",
    "all_mapk = []\n",
    "for actual, predicted in generate_predictions_and_actuals_mapk(pred_item, csr_matrix(matrix_test), relevance_threshold=4, k=10, batch_size=1000):\n",
    "    current_mapk = batch_mapk(actual, predicted, k=10)\n",
    "    all_mapk.append(current_mapk)\n",
    "\n",
    "print(\"Item-based MAP@k:\", np.mean(all_mapk))"
   ]
  },
  {
   "cell_type": "code",
   "execution_count": 27,
   "id": "85b362ea",
   "metadata": {},
   "outputs": [
    {
     "name": "stdout",
     "output_type": "stream",
     "text": [
      "User-based Средний NDCG@10: 0.34754753727651816\n",
      "Item-based Средний NDCG@10: 0.26774903772766845\n"
     ]
    }
   ],
   "source": [
    "all_ndcg_scores = []\n",
    "for actual, predictions in generate_predictions_and_actuals_ndcg(pred_user, csr_matrix(matrix_test), batch_size=1000, k=10):\n",
    "    ndcg_score = ndcg_at_k(actual, predictions, k=10)\n",
    "    all_ndcg_scores.append(ndcg_score)\n",
    "mean_ndcg = np.mean(all_ndcg_scores)\n",
    "print(f\"User-based Средний NDCG@{10}: {mean_ndcg}\")\n",
    "\n",
    "all_ndcg_scores = []\n",
    "for actual, predictions in generate_predictions_and_actuals_ndcg(pred_item, csr_matrix(matrix_test), batch_size=1000, k=10):\n",
    "    ndcg_score = ndcg_at_k(actual, predictions, k=10)\n",
    "    all_ndcg_scores.append(ndcg_score)\n",
    "\n",
    "mean_ndcg = np.mean(all_ndcg_scores)\n",
    "print(f\"Item-based Средний NDCG@{10}: {mean_ndcg}\")"
   ]
  },
  {
   "cell_type": "markdown",
   "id": "1657eca1",
   "metadata": {},
   "source": [
    "### На основе средних оценок пользователей и матрицы “похожести”"
   ]
  },
  {
   "cell_type": "markdown",
   "id": "08eef0db",
   "metadata": {},
   "source": [
    "$$\n",
    "r_{u,i} = \\bar r_u + \\frac{\\sum_{u' \\in U} simil(u, u') \\cdot (r_{u',i} - \\bar r_{u'})}{\\sum_{u' \\in U} \\left|simil(u, u')\\right|}\n",
    "$$"
   ]
  },
  {
   "cell_type": "code",
   "execution_count": 61,
   "id": "ef57fda6",
   "metadata": {},
   "outputs": [],
   "source": [
    "def predict(ratings, similarity, type='user'):\n",
    "    if type == 'user':\n",
    "        mean_user_rating = ratings.mean(axis=1)\n",
    "        ratings_diff = (ratings - mean_user_rating[:, np.newaxis]) \n",
    "        pred = mean_user_rating[:, np.newaxis] + similarity.dot(ratings_diff) / np.array([np.abs(similarity).sum(axis=1)]).T\n",
    "    elif type == 'item':\n",
    "        pred = ratings.dot(similarity) / np.array([np.abs(similarity).sum(axis=1)])     \n",
    "    return pred"
   ]
  },
  {
   "cell_type": "code",
   "execution_count": 62,
   "id": "d7a461eb-6908-4ba1-ae02-f35519af4e6a",
   "metadata": {},
   "outputs": [],
   "source": [
    "matrix_train = pd.DataFrame.sparse.from_spmatrix(weights_train)\n",
    "matrix_test = pd.DataFrame.sparse.from_spmatrix(weights_test)"
   ]
  },
  {
   "cell_type": "code",
   "execution_count": 63,
   "id": "2de977ec",
   "metadata": {},
   "outputs": [
    {
     "name": "stdout",
     "output_type": "stream",
     "text": [
      "CPU times: total: 2min 37s\n",
      "Wall time: 15.1 s\n"
     ]
    }
   ],
   "source": [
    "%%time\n",
    "pred_item_mean = predict(matrix_train.values, item_similarity, type='item')\n",
    "pred_user_mean = predict(matrix_train.values, user_similarity, type='user')"
   ]
  },
  {
   "cell_type": "code",
   "execution_count": 64,
   "id": "36ff0bb6",
   "metadata": {},
   "outputs": [
    {
     "name": "stdout",
     "output_type": "stream",
     "text": [
      "User-based CF RMSE: 2.71505222755063\n",
      "Item-based CF RMSE: 3.3548775308601524\n"
     ]
    }
   ],
   "source": [
    "print('User-based CF RMSE: ' + str(rmse(pred_user_mean, matrix_test.values)))\n",
    "print('Item-based CF RMSE: ' + str(rmse(pred_item_mean, matrix_test.values)))"
   ]
  },
  {
   "cell_type": "code",
   "execution_count": 65,
   "id": "bcb93000-440e-40da-9765-19e957010957",
   "metadata": {},
   "outputs": [
    {
     "name": "stdout",
     "output_type": "stream",
     "text": [
      "User-based MAP@10: 0.05298589031016373\n",
      "Item-based MAP@10: 2.0000000000000003e-06\n"
     ]
    }
   ],
   "source": [
    "all_mapk = []\n",
    "for actual, predicted in generate_predictions_and_actuals_mapk(pred_user_mean, csr_matrix(matrix_test), relevance_threshold=4, k=10, batch_size=1000):\n",
    "    current_mapk = batch_mapk(actual, predicted, k=10)\n",
    "    all_mapk.append(current_mapk)\n",
    "\n",
    "print(\"User-based MAP@10:\", np.mean(all_mapk))\n",
    "\n",
    "all_mapk = []\n",
    "for actual, predicted in generate_predictions_and_actuals_mapk(pred_item_mean, csr_matrix(matrix_test), relevance_threshold=4, k=10, batch_size=1000):\n",
    "    current_mapk = batch_mapk(actual, predicted, k=10)\n",
    "    all_mapk.append(current_mapk)\n",
    "\n",
    "print(\"Item-based MAP@10:\", np.mean(all_mapk))"
   ]
  },
  {
   "cell_type": "code",
   "execution_count": 66,
   "id": "097f90f0",
   "metadata": {},
   "outputs": [
    {
     "name": "stdout",
     "output_type": "stream",
     "text": [
      "User-based NDCG@10: 0.30428271958464076\n",
      "Item-based NDCG@10: 9.733332415249105e-06\n"
     ]
    }
   ],
   "source": [
    "all_ndcg_scores = []\n",
    "for actual, predictions in generate_predictions_and_actuals_ndcg(pred_user_mean, csr_matrix(matrix_test), batch_size=1000, k=10):\n",
    "    ndcg_score = ndcg_at_k(actual, predictions, k=10)\n",
    "    all_ndcg_scores.append(ndcg_score)\n",
    "mean_ndcg = np.mean(all_ndcg_scores)\n",
    "print(f\"User-based NDCG@10: {mean_ndcg}\")\n",
    "\n",
    "all_ndcg_scores = []\n",
    "for actual, predictions in generate_predictions_and_actuals_ndcg(pred_item_mean, csr_matrix(matrix_test), batch_size=1000, k=10):\n",
    "    ndcg_score = ndcg_at_k(actual, predictions, k=10)\n",
    "    all_ndcg_scores.append(ndcg_score)\n",
    "\n",
    "mean_ndcg = np.mean(all_ndcg_scores)\n",
    "print(f\"Item-based NDCG@10: {mean_ndcg}\")"
   ]
  },
  {
   "cell_type": "markdown",
   "id": "945e4660-b9b3-4529-a203-e050abe76dc5",
   "metadata": {},
   "source": [
    "### PCA"
   ]
  },
  {
   "cell_type": "code",
   "execution_count": 67,
   "id": "c09d40e3-f638-49c4-9460-9237e2411702",
   "metadata": {},
   "outputs": [
    {
     "name": "stdout",
     "output_type": "stream",
     "text": [
      "[0.05201892 0.03886896 0.02661655 ... 0.00015905 0.00015898 0.00015886]\n"
     ]
    }
   ],
   "source": [
    "# PCA\n",
    "import numpy as np\n",
    "from sklearn.decomposition import PCA\n",
    "\n",
    "\n",
    "pca = PCA(n_components=0.8)\n",
    "pca.fit(matrix_train.values)\n",
    "print(pca.explained_variance_ratio_)\n",
    "#print(pca.singular_values_)"
   ]
  },
  {
   "cell_type": "code",
   "execution_count": 68,
   "id": "2629af89-35c2-4ba3-8031-530981ccce6b",
   "metadata": {},
   "outputs": [
    {
     "data": {
      "text/plain": [
       "0.53333205"
      ]
     },
     "execution_count": 68,
     "metadata": {},
     "output_type": "execute_result"
    }
   ],
   "source": [
    "pca.explained_variance_ratio_[:500].sum()"
   ]
  },
  {
   "cell_type": "markdown",
   "id": "aa78678e",
   "metadata": {},
   "source": [
    "### Model-based Collaborative Filtering"
   ]
  },
  {
   "cell_type": "markdown",
   "id": "ad4ab32a",
   "metadata": {},
   "source": [
    "$\n",
    "X = USV_T\n",
    "$\n",
    "\n",
    "$USV_T \\approx X'$ , X' - приближение матрицы X\n"
   ]
  },
  {
   "cell_type": "code",
   "execution_count": 69,
   "id": "5eb95e05",
   "metadata": {},
   "outputs": [
    {
     "name": "stdout",
     "output_type": "stream",
     "text": [
      "CPU times: total: 3min 12s\n",
      "Wall time: 1min 1s\n"
     ]
    }
   ],
   "source": [
    "%%time\n",
    "u, s, vt = svds(matrix_train.values, k=500)\n",
    "s_diag_matrix = np.diag(s)\n",
    "X_pred = np.dot(np.dot(u, s_diag_matrix), vt)"
   ]
  },
  {
   "cell_type": "code",
   "execution_count": 85,
   "id": "0e27daf7",
   "metadata": {},
   "outputs": [
    {
     "name": "stdout",
     "output_type": "stream",
     "text": [
      "CF MSE: 2.7714053163549988\n"
     ]
    }
   ],
   "source": [
    "print('CF MSE: ' + str(rmse(X_pred, matrix_test.values)))"
   ]
  },
  {
   "cell_type": "code",
   "execution_count": 68,
   "id": "f8798f8f",
   "metadata": {},
   "outputs": [
    {
     "name": "stdout",
     "output_type": "stream",
     "text": [
      "Final MAP@k: 0.03792255653591328\n"
     ]
    }
   ],
   "source": [
    "# k=10\n",
    "all_mapk = []\n",
    "for actual, predicted in generate_predictions_and_actuals_mapk(X_pred, csr_matrix(matrix_test), relevance_threshold=4, k=10, batch_size=1000):\n",
    "    current_mapk = batch_mapk(actual, predicted, k=10)\n",
    "    all_mapk.append(current_mapk)\n",
    "\n",
    "print(\"Final MAP@k:\", np.mean(all_mapk))"
   ]
  },
  {
   "cell_type": "code",
   "execution_count": 69,
   "id": "b4351266",
   "metadata": {},
   "outputs": [
    {
     "name": "stdout",
     "output_type": "stream",
     "text": [
      "Средний NDCG@10: 0.3895810248335271\n"
     ]
    }
   ],
   "source": [
    "# k=10\n",
    "all_ndcg_scores = []\n",
    "for actual, predictions in generate_predictions_and_actuals_ndcg(X_pred, csr_matrix(matrix_test), batch_size=1000, k=10):\n",
    "    ndcg_score = ndcg_at_k(actual, predictions, k=10)\n",
    "    all_ndcg_scores.append(ndcg_score)\n",
    "mean_ndcg = np.mean(all_ndcg_scores)\n",
    "print(f\"Средний NDCG@{10}: {mean_ndcg}\")"
   ]
  },
  {
   "cell_type": "code",
   "execution_count": 72,
   "id": "bd4a71a2-44a0-47d9-a137-089ee09ef9de",
   "metadata": {},
   "outputs": [
    {
     "name": "stdout",
     "output_type": "stream",
     "text": [
      "Final MAP@k: 0.031084254904297025\n"
     ]
    }
   ],
   "source": [
    "# k=100\n",
    "all_mapk = []\n",
    "for actual, predicted in generate_predictions_and_actuals_mapk(X_pred, csr_matrix(matrix_test), relevance_threshold=4, k=10, batch_size=1000):\n",
    "    current_mapk = batch_mapk(actual, predicted, k=10)\n",
    "    all_mapk.append(current_mapk)\n",
    "\n",
    "print(\"Final MAP@k:\", np.mean(all_mapk))"
   ]
  },
  {
   "cell_type": "code",
   "execution_count": 73,
   "id": "bcf002f6-c187-492d-917d-cbe5751199ad",
   "metadata": {},
   "outputs": [
    {
     "name": "stdout",
     "output_type": "stream",
     "text": [
      "Средний NDCG@10: 0.393674405982534\n"
     ]
    }
   ],
   "source": [
    "# k=100\n",
    "all_ndcg_scores = []\n",
    "for actual, predictions in generate_predictions_and_actuals_ndcg(X_pred, csr_matrix(matrix_test), batch_size=1000, k=10):\n",
    "    ndcg_score = ndcg_at_k(actual, predictions, k=10)\n",
    "    all_ndcg_scores.append(ndcg_score)\n",
    "mean_ndcg = np.mean(all_ndcg_scores)\n",
    "print(f\"Средний NDCG@{10}: {mean_ndcg}\")"
   ]
  },
  {
   "cell_type": "code",
   "execution_count": 70,
   "id": "67515b99-1638-43d9-a391-8fec6693d00f",
   "metadata": {},
   "outputs": [
    {
     "name": "stdout",
     "output_type": "stream",
     "text": [
      "Final MAP@k: 0.023860647541399386\n"
     ]
    }
   ],
   "source": [
    "# k=500\n",
    "all_mapk = []\n",
    "for actual, predicted in generate_predictions_and_actuals_mapk(X_pred, csr_matrix(matrix_test), relevance_threshold=4, k=10, batch_size=1000):\n",
    "    current_mapk = batch_mapk(actual, predicted, k=10)\n",
    "    all_mapk.append(current_mapk)\n",
    "\n",
    "print(\"Final MAP@k:\", np.mean(all_mapk))"
   ]
  },
  {
   "cell_type": "code",
   "execution_count": 71,
   "id": "7fb2ac31-b22b-42ca-9a2d-8a9ca9ba25aa",
   "metadata": {},
   "outputs": [
    {
     "name": "stdout",
     "output_type": "stream",
     "text": [
      "Средний NDCG@10: 0.3388499084927593\n"
     ]
    }
   ],
   "source": [
    "# k=500\n",
    "all_ndcg_scores = []\n",
    "for actual, predictions in generate_predictions_and_actuals_ndcg(X_pred, csr_matrix(matrix_test), batch_size=1000, k=10):\n",
    "    ndcg_score = ndcg_at_k(actual, predictions, k=10)\n",
    "    all_ndcg_scores.append(ndcg_score)\n",
    "mean_ndcg = np.mean(all_ndcg_scores)\n",
    "print(f\"Средний NDCG@10: {mean_ndcg}\")"
   ]
  },
  {
   "cell_type": "code",
   "execution_count": null,
   "id": "966a7ada-d7f1-4932-ae32-62c5ffd3d30d",
   "metadata": {},
   "outputs": [],
   "source": []
  },
  {
   "cell_type": "code",
   "execution_count": null,
   "id": "a9626a70-4e4c-4795-a1c8-a82672e95235",
   "metadata": {},
   "outputs": [],
   "source": []
  },
  {
   "cell_type": "code",
   "execution_count": null,
   "id": "092d738a-e21a-4475-a2dd-28b5bcedd41a",
   "metadata": {},
   "outputs": [],
   "source": []
  },
  {
   "cell_type": "markdown",
   "id": "3bcad39f-d185-47f5-8135-13b37c0a11dc",
   "metadata": {},
   "source": [
    "## EASE"
   ]
  },
  {
   "cell_type": "code",
   "execution_count": 72,
   "id": "ccd54379-96e8-4fca-af01-00b60eaa5f36",
   "metadata": {},
   "outputs": [],
   "source": [
    "train_users = movies_ratings_train.userId.unique()\n",
    "test_users = movies_ratings_test.userId.unique()\n",
    "\n",
    "all_included = np.intersect1d(train_users, test_users)"
   ]
  },
  {
   "cell_type": "code",
   "execution_count": 73,
   "id": "7988964d-1b03-4ebb-a3dd-93e4e5661693",
   "metadata": {},
   "outputs": [],
   "source": [
    "train_df = movies_ratings_train.loc[movies_ratings_train.userId.isin(all_included)].copy()\n",
    "test_df = movies_ratings_test.loc[movies_ratings_test.userId.isin(all_included)].copy()"
   ]
  },
  {
   "cell_type": "code",
   "execution_count": 74,
   "id": "5b885039-41c6-4362-939a-0dc1342ddcae",
   "metadata": {},
   "outputs": [],
   "source": [
    "df = pd.concat([train_df, test_df])"
   ]
  },
  {
   "cell_type": "code",
   "execution_count": 75,
   "id": "077f58a1-819d-40b8-b004-9376c4131413",
   "metadata": {},
   "outputs": [
    {
     "data": {
      "text/html": [
       "<div>\n",
       "<style scoped>\n",
       "    .dataframe tbody tr th:only-of-type {\n",
       "        vertical-align: middle;\n",
       "    }\n",
       "\n",
       "    .dataframe tbody tr th {\n",
       "        vertical-align: top;\n",
       "    }\n",
       "\n",
       "    .dataframe thead th {\n",
       "        text-align: right;\n",
       "    }\n",
       "</style>\n",
       "<table border=\"1\" class=\"dataframe\">\n",
       "  <thead>\n",
       "    <tr style=\"text-align: right;\">\n",
       "      <th></th>\n",
       "      <th>Wikipedia_movie_ID</th>\n",
       "      <th>userId</th>\n",
       "      <th>rating</th>\n",
       "      <th>user_id</th>\n",
       "      <th>item_id</th>\n",
       "    </tr>\n",
       "  </thead>\n",
       "  <tbody>\n",
       "    <tr>\n",
       "      <th>5368580</th>\n",
       "      <td>45224</td>\n",
       "      <td>127892</td>\n",
       "      <td>5.0</td>\n",
       "      <td>2360</td>\n",
       "      <td>233</td>\n",
       "    </tr>\n",
       "    <tr>\n",
       "      <th>2707152</th>\n",
       "      <td>7051746</td>\n",
       "      <td>267762</td>\n",
       "      <td>2.0</td>\n",
       "      <td>860</td>\n",
       "      <td>2146</td>\n",
       "    </tr>\n",
       "    <tr>\n",
       "      <th>3142835</th>\n",
       "      <td>3509771</td>\n",
       "      <td>218994</td>\n",
       "      <td>3.5</td>\n",
       "      <td>4292</td>\n",
       "      <td>1889</td>\n",
       "    </tr>\n",
       "    <tr>\n",
       "      <th>2980804</th>\n",
       "      <td>1267713</td>\n",
       "      <td>30622</td>\n",
       "      <td>4.0</td>\n",
       "      <td>1112</td>\n",
       "      <td>2603</td>\n",
       "    </tr>\n",
       "    <tr>\n",
       "      <th>2604438</th>\n",
       "      <td>1045457</td>\n",
       "      <td>85928</td>\n",
       "      <td>2.5</td>\n",
       "      <td>6081</td>\n",
       "      <td>151</td>\n",
       "    </tr>\n",
       "  </tbody>\n",
       "</table>\n",
       "</div>"
      ],
      "text/plain": [
       "         Wikipedia_movie_ID  userId  rating  user_id  item_id\n",
       "5368580               45224  127892     5.0     2360      233\n",
       "2707152             7051746  267762     2.0      860     2146\n",
       "3142835             3509771  218994     3.5     4292     1889\n",
       "2980804             1267713   30622     4.0     1112     2603\n",
       "2604438             1045457   85928     2.5     6081      151"
      ]
     },
     "execution_count": 75,
     "metadata": {},
     "output_type": "execute_result"
    }
   ],
   "source": [
    "item2id = {k:v for v, k in enumerate(df.Wikipedia_movie_ID.unique())}\n",
    "user2id = {k:v for v, k in enumerate(df.userId.unique())}\n",
    "\n",
    "id2item = {k:v for v, k in item2id.items()}\n",
    "id2user = {k:v for v, k in user2id.items()}\n",
    "\n",
    "train_df['user_id'] = train_df.userId.apply(lambda x: user2id[x])\n",
    "train_df['item_id'] = train_df.Wikipedia_movie_ID.apply(lambda x: item2id[x])\n",
    "test_df['user_id'] = test_df.userId.apply(lambda x: user2id[x])\n",
    "test_df['item_id'] = test_df.Wikipedia_movie_ID.apply(lambda x: item2id[x])\n",
    "\n",
    "train_df.sample(5)"
   ]
  },
  {
   "cell_type": "code",
   "execution_count": 76,
   "id": "4f175edd-1e97-4858-ada8-323290f50ab6",
   "metadata": {},
   "outputs": [
    {
     "name": "stderr",
     "output_type": "stream",
     "text": [
      "C:\\Users\\kiril\\AppData\\Local\\Temp\\ipykernel_19828\\1174031457.py:6: DeprecationWarning: DataFrameGroupBy.apply operated on the grouping columns. This behavior is deprecated, and in a future version of pandas the grouping columns will be excluded from the operation. Either pass `include_groups=False` to exclude the groupings or explicitly select the grouping columns after groupby to silence this warning.\n",
      "  test_grouped = test_df.groupby('user_id').apply(\n"
     ]
    }
   ],
   "source": [
    "test_grouped = test_df.groupby('user_id').apply(\n",
    "    lambda x: [t1 for t1 in zip(x.item_id)]).reset_index()\n",
    "\n",
    "test_grouped.rename({0:'test_interactions'}, axis=1, inplace=True)"
   ]
  },
  {
   "cell_type": "code",
   "execution_count": 77,
   "id": "72653b31-9c92-4ca6-873a-d1c3ce5872d4",
   "metadata": {},
   "outputs": [
    {
     "data": {
      "text/plain": [
       "<9452x18401 sparse matrix of type '<class 'numpy.float64'>'\n",
       "\twith 5780312 stored elements in COOrdinate format>"
      ]
     },
     "execution_count": 77,
     "metadata": {},
     "output_type": "execute_result"
    }
   ],
   "source": [
    "matrix = sp.coo_matrix(\n",
    "    (np.ones(train_df.shape[0]), (train_df['user_id'], train_df['item_id'])),\n",
    "    shape=(len(user2id), len(item2id)),\n",
    ")\n",
    "matrix"
   ]
  },
  {
   "cell_type": "code",
   "execution_count": 78,
   "id": "8ca15420-7ce0-403f-b956-334beaa52fb8",
   "metadata": {},
   "outputs": [
    {
     "name": "stdout",
     "output_type": "stream",
     "text": [
      "CPU times: total: 7min 44s\n",
      "Wall time: 53.1 s\n"
     ]
    }
   ],
   "source": [
    "%%time\n",
    "\n",
    "# Обучаем конечную модель\n",
    "# Мы взяли реализацию из RecBole\n",
    "# \n",
    "def fit_ease(X, reg_weight=100):\n",
    "    \n",
    " # gram matrix\n",
    "    G = X.T @ X\n",
    "\n",
    "    # add reg to diagonal\n",
    "    G += reg_weight * sp.identity(G.shape[0])\n",
    "\n",
    "    # convert to dense because inverse will be dense\n",
    "    G = G.todense()\n",
    "\n",
    "    # invert. this takes most of the time\n",
    "    P = np.linalg.inv(G)\n",
    "    B = P / (-np.diag(P))\n",
    "    # zero out diag\n",
    "    np.fill_diagonal(B, 0.)\n",
    "    \n",
    "    return B\n",
    "\n",
    "w = fit_ease(matrix)"
   ]
  },
  {
   "cell_type": "code",
   "execution_count": 79,
   "id": "d97faecc-9961-4c9b-bcb6-aba74d123129",
   "metadata": {},
   "outputs": [],
   "source": [
    "def get_preds(x, item2id, id2item):\n",
    "\n",
    "    user_items = [t[0] for t in x]\n",
    "    encoded = [item2id[t] for t in user_items if t in item2id]\n",
    "\n",
    "    # Составляем вектор интеракций человека\n",
    "    vector = np.zeros(len(item2id))\n",
    "    vector[encoded] = 1\n",
    "\n",
    "    vector = sp.csr_matrix(vector)\n",
    "\n",
    "    preds = np.array(vector.dot(w))[0]#.toarray()\n",
    "    preds[encoded==1] = -np.inf\n",
    "\n",
    "    # ranks = np.argsort(-preds)\n",
    "    # decoded = [id2item[t] for t in ranks][:10]\n",
    "    \n",
    "    return preds"
   ]
  },
  {
   "cell_type": "code",
   "execution_count": 80,
   "id": "d7f57353-720a-47c2-b868-a0bd27e659de",
   "metadata": {},
   "outputs": [
    {
     "data": {
      "text/html": [
       "<div>\n",
       "<style scoped>\n",
       "    .dataframe tbody tr th:only-of-type {\n",
       "        vertical-align: middle;\n",
       "    }\n",
       "\n",
       "    .dataframe tbody tr th {\n",
       "        vertical-align: top;\n",
       "    }\n",
       "\n",
       "    .dataframe thead th {\n",
       "        text-align: right;\n",
       "    }\n",
       "</style>\n",
       "<table border=\"1\" class=\"dataframe\">\n",
       "  <thead>\n",
       "    <tr style=\"text-align: right;\">\n",
       "      <th></th>\n",
       "      <th>user_id</th>\n",
       "      <th>test_interactions</th>\n",
       "      <th>ease_preds</th>\n",
       "    </tr>\n",
       "  </thead>\n",
       "  <tbody>\n",
       "    <tr>\n",
       "      <th>0</th>\n",
       "      <td>0</td>\n",
       "      <td>[(1173,), (2007,), (1281,), (357,), (741,), (1...</td>\n",
       "      <td>[-0.02937505657436947, 0.003478014480497466, 0...</td>\n",
       "    </tr>\n",
       "    <tr>\n",
       "      <th>1</th>\n",
       "      <td>1</td>\n",
       "      <td>[(2913,), (5485,), (136,), (1908,), (1108,), (...</td>\n",
       "      <td>[0.0, 0.0, 0.0, 0.0, 0.0, 0.0, 0.0, 0.0, 0.0, ...</td>\n",
       "    </tr>\n",
       "    <tr>\n",
       "      <th>2</th>\n",
       "      <td>2</td>\n",
       "      <td>[(6635,), (94,), (4173,), (2312,), (5825,), (5...</td>\n",
       "      <td>[-0.030211751340364804, 0.02016465126562201, 0...</td>\n",
       "    </tr>\n",
       "    <tr>\n",
       "      <th>3</th>\n",
       "      <td>3</td>\n",
       "      <td>[(85,), (1353,), (1387,), (5203,), (2711,), (8...</td>\n",
       "      <td>[0.0, 0.0, 0.0, 0.0, 0.0, 0.0, 0.0, 0.0, 0.0, ...</td>\n",
       "    </tr>\n",
       "    <tr>\n",
       "      <th>4</th>\n",
       "      <td>4</td>\n",
       "      <td>[(2757,), (2609,), (1165,), (5655,), (874,), (...</td>\n",
       "      <td>[0.0, 0.0, 0.0, 0.0, 0.0, 0.0, 0.0, 0.0, 0.0, ...</td>\n",
       "    </tr>\n",
       "  </tbody>\n",
       "</table>\n",
       "</div>"
      ],
      "text/plain": [
       "   user_id                                  test_interactions  \\\n",
       "0        0  [(1173,), (2007,), (1281,), (357,), (741,), (1...   \n",
       "1        1  [(2913,), (5485,), (136,), (1908,), (1108,), (...   \n",
       "2        2  [(6635,), (94,), (4173,), (2312,), (5825,), (5...   \n",
       "3        3  [(85,), (1353,), (1387,), (5203,), (2711,), (8...   \n",
       "4        4  [(2757,), (2609,), (1165,), (5655,), (874,), (...   \n",
       "\n",
       "                                          ease_preds  \n",
       "0  [-0.02937505657436947, 0.003478014480497466, 0...  \n",
       "1  [0.0, 0.0, 0.0, 0.0, 0.0, 0.0, 0.0, 0.0, 0.0, ...  \n",
       "2  [-0.030211751340364804, 0.02016465126562201, 0...  \n",
       "3  [0.0, 0.0, 0.0, 0.0, 0.0, 0.0, 0.0, 0.0, 0.0, ...  \n",
       "4  [0.0, 0.0, 0.0, 0.0, 0.0, 0.0, 0.0, 0.0, 0.0, ...  "
      ]
     },
     "execution_count": 80,
     "metadata": {},
     "output_type": "execute_result"
    }
   ],
   "source": [
    "test_grouped['ease_preds'] = test_grouped.test_interactions.apply(lambda x: get_preds(x, item2id, id2item))\n",
    "test_grouped.head()"
   ]
  },
  {
   "cell_type": "code",
   "execution_count": 81,
   "id": "6569cc80-c8dc-471f-b23e-398e5365474f",
   "metadata": {},
   "outputs": [
    {
     "data": {
      "text/plain": [
       "(9452, 18401)"
      ]
     },
     "execution_count": 81,
     "metadata": {},
     "output_type": "execute_result"
    }
   ],
   "source": [
    "preds_ease = test_grouped['ease_preds'].to_numpy()\n",
    "shape = pred_item_mean.shape\n",
    "\n",
    "def transform_preds(preds_ease, target_shape):\n",
    "    flat_preds = []\n",
    "    for array in preds_ease:\n",
    "        flat_preds.extend(array)\n",
    "    \n",
    "    transformed = np.array(flat_preds).reshape(target_shape)\n",
    "    return transformed\n",
    "\n",
    "transformed_preds = transform_preds(preds_ease, shape)\n",
    "transformed_preds.shape"
   ]
  },
  {
   "cell_type": "markdown",
   "id": "3c8493cf-b729-4ff7-948b-80e87b4f7f13",
   "metadata": {},
   "source": [
    "### Делаем сопоставление между индексами в matrix_test и индексами предсказанных товаров"
   ]
  },
  {
   "cell_type": "code",
   "execution_count": 82,
   "id": "48967059-75c9-4d78-a339-caa14bab2fa7",
   "metadata": {},
   "outputs": [],
   "source": [
    "indexes = np.arange(0, transformed_preds.shape[1])\n",
    "pred_items_order = [lightfm_mapping['items_mapping'][id2item[t]] for t in indexes]\n",
    "sorted_indices = np.argsort(pred_items_order)\n",
    "transformed_preds = transformed_preds[:, sorted_indices]"
   ]
  },
  {
   "cell_type": "code",
   "execution_count": 83,
   "id": "b5c3e3f9-90f6-48b6-8140-4f86607a94d0",
   "metadata": {},
   "outputs": [
    {
     "name": "stdout",
     "output_type": "stream",
     "text": [
      "EASE MAP@10: 0.0035895901109706417\n",
      "EASE Средний NDCG@10: 0.11939774124787061\n"
     ]
    }
   ],
   "source": [
    "all_mapk = []\n",
    "for actual, predicted in generate_predictions_and_actuals_mapk(transformed_preds, csr_matrix(matrix_test), relevance_threshold=4, k=10, batch_size=1000):\n",
    "    current_mapk = batch_mapk(actual, predicted, k=10)\n",
    "    all_mapk.append(current_mapk)\n",
    "\n",
    "print(\"EASE MAP@10:\", np.mean(all_mapk))\n",
    "\n",
    "all_ndcg_scores = []\n",
    "for actual, predictions in generate_predictions_and_actuals_ndcg(transformed_preds, csr_matrix(matrix_test), batch_size=1000, k=10):\n",
    "    ndcg_score = ndcg_at_k(actual, predictions, k=10)\n",
    "    all_ndcg_scores.append(ndcg_score)\n",
    "\n",
    "mean_ndcg = np.mean(all_ndcg_scores)\n",
    "print(f\"EASE Средний NDCG@10: {mean_ndcg}\")"
   ]
  },
  {
   "cell_type": "markdown",
   "id": "3d45503e-21ef-489a-b68f-b202328ccee8",
   "metadata": {},
   "source": [
    "## Main model"
   ]
  },
  {
   "cell_type": "code",
   "execution_count": 12,
   "id": "9dff5b1a-1972-447e-ad65-c3d7d18ab1af",
   "metadata": {},
   "outputs": [],
   "source": [
    "model_preds = pd.DataFrame()\n",
    "for i in range(1, 10+1):\n",
    "    df = pd.read_csv(f'model_preds_batch{i}.csv')\n",
    "    model_preds = pd.concat([model_preds, df])"
   ]
  },
  {
   "cell_type": "code",
   "execution_count": 13,
   "id": "109894fa-1665-4a9b-aeaa-8525ff88f4a0",
   "metadata": {},
   "outputs": [
    {
     "data": {
      "text/html": [
       "<div>\n",
       "<style scoped>\n",
       "    .dataframe tbody tr th:only-of-type {\n",
       "        vertical-align: middle;\n",
       "    }\n",
       "\n",
       "    .dataframe tbody tr th {\n",
       "        vertical-align: top;\n",
       "    }\n",
       "\n",
       "    .dataframe thead th {\n",
       "        text-align: right;\n",
       "    }\n",
       "</style>\n",
       "<table border=\"1\" class=\"dataframe\">\n",
       "  <thead>\n",
       "    <tr style=\"text-align: right;\">\n",
       "      <th></th>\n",
       "      <th>Wikipedia_movie_ID</th>\n",
       "      <th>userId</th>\n",
       "      <th>score</th>\n",
       "    </tr>\n",
       "  </thead>\n",
       "  <tbody>\n",
       "    <tr>\n",
       "      <th>0</th>\n",
       "      <td>13149</td>\n",
       "      <td>240727</td>\n",
       "      <td>0.500597</td>\n",
       "    </tr>\n",
       "    <tr>\n",
       "      <th>1</th>\n",
       "      <td>1108697</td>\n",
       "      <td>240727</td>\n",
       "      <td>0.552228</td>\n",
       "    </tr>\n",
       "    <tr>\n",
       "      <th>2</th>\n",
       "      <td>957792</td>\n",
       "      <td>240727</td>\n",
       "      <td>0.597156</td>\n",
       "    </tr>\n",
       "    <tr>\n",
       "      <th>3</th>\n",
       "      <td>367085</td>\n",
       "      <td>240727</td>\n",
       "      <td>0.586010</td>\n",
       "    </tr>\n",
       "    <tr>\n",
       "      <th>4</th>\n",
       "      <td>8931001</td>\n",
       "      <td>240727</td>\n",
       "      <td>0.586400</td>\n",
       "    </tr>\n",
       "    <tr>\n",
       "      <th>...</th>\n",
       "      <td>...</td>\n",
       "      <td>...</td>\n",
       "      <td>...</td>\n",
       "    </tr>\n",
       "    <tr>\n",
       "      <th>46003</th>\n",
       "      <td>930379</td>\n",
       "      <td>69502</td>\n",
       "      <td>0.564679</td>\n",
       "    </tr>\n",
       "    <tr>\n",
       "      <th>46004</th>\n",
       "      <td>692661</td>\n",
       "      <td>69502</td>\n",
       "      <td>0.545031</td>\n",
       "    </tr>\n",
       "    <tr>\n",
       "      <th>46005</th>\n",
       "      <td>17920</td>\n",
       "      <td>69502</td>\n",
       "      <td>0.527110</td>\n",
       "    </tr>\n",
       "    <tr>\n",
       "      <th>46006</th>\n",
       "      <td>26857099</td>\n",
       "      <td>69502</td>\n",
       "      <td>0.600819</td>\n",
       "    </tr>\n",
       "    <tr>\n",
       "      <th>46007</th>\n",
       "      <td>142447</td>\n",
       "      <td>69502</td>\n",
       "      <td>0.589521</td>\n",
       "    </tr>\n",
       "  </tbody>\n",
       "</table>\n",
       "<p>1380807 rows × 3 columns</p>\n",
       "</div>"
      ],
      "text/plain": [
       "       Wikipedia_movie_ID  userId     score\n",
       "0                   13149  240727  0.500597\n",
       "1                 1108697  240727  0.552228\n",
       "2                  957792  240727  0.597156\n",
       "3                  367085  240727  0.586010\n",
       "4                 8931001  240727  0.586400\n",
       "...                   ...     ...       ...\n",
       "46003              930379   69502  0.564679\n",
       "46004              692661   69502  0.545031\n",
       "46005               17920   69502  0.527110\n",
       "46006            26857099   69502  0.600819\n",
       "46007              142447   69502  0.589521\n",
       "\n",
       "[1380807 rows x 3 columns]"
      ]
     },
     "execution_count": 13,
     "metadata": {},
     "output_type": "execute_result"
    }
   ],
   "source": [
    "model_preds"
   ]
  },
  {
   "cell_type": "code",
   "execution_count": 14,
   "id": "fa250e51-1149-40c5-babe-94ff0196c5a7",
   "metadata": {},
   "outputs": [
    {
     "data": {
      "text/plain": [
       "9452"
      ]
     },
     "execution_count": 14,
     "metadata": {},
     "output_type": "execute_result"
    }
   ],
   "source": [
    "model_preds['userId'].nunique()"
   ]
  },
  {
   "cell_type": "code",
   "execution_count": 15,
   "id": "5d758471-8e6e-4c2b-810b-b77b4ce50c3f",
   "metadata": {},
   "outputs": [
    {
     "data": {
      "text/html": [
       "<div>\n",
       "<style scoped>\n",
       "    .dataframe tbody tr th:only-of-type {\n",
       "        vertical-align: middle;\n",
       "    }\n",
       "\n",
       "    .dataframe tbody tr th {\n",
       "        vertical-align: top;\n",
       "    }\n",
       "\n",
       "    .dataframe thead th {\n",
       "        text-align: right;\n",
       "    }\n",
       "</style>\n",
       "<table border=\"1\" class=\"dataframe\">\n",
       "  <thead>\n",
       "    <tr style=\"text-align: right;\">\n",
       "      <th></th>\n",
       "      <th>Wikipedia_movie_ID</th>\n",
       "      <th>userId</th>\n",
       "      <th>rating</th>\n",
       "    </tr>\n",
       "  </thead>\n",
       "  <tbody>\n",
       "    <tr>\n",
       "      <th>0</th>\n",
       "      <td>13149</td>\n",
       "      <td>240727</td>\n",
       "      <td>0.500597</td>\n",
       "    </tr>\n",
       "    <tr>\n",
       "      <th>1</th>\n",
       "      <td>1108697</td>\n",
       "      <td>240727</td>\n",
       "      <td>0.552228</td>\n",
       "    </tr>\n",
       "    <tr>\n",
       "      <th>2</th>\n",
       "      <td>957792</td>\n",
       "      <td>240727</td>\n",
       "      <td>0.597156</td>\n",
       "    </tr>\n",
       "    <tr>\n",
       "      <th>3</th>\n",
       "      <td>367085</td>\n",
       "      <td>240727</td>\n",
       "      <td>0.586010</td>\n",
       "    </tr>\n",
       "    <tr>\n",
       "      <th>4</th>\n",
       "      <td>8931001</td>\n",
       "      <td>240727</td>\n",
       "      <td>0.586400</td>\n",
       "    </tr>\n",
       "    <tr>\n",
       "      <th>...</th>\n",
       "      <td>...</td>\n",
       "      <td>...</td>\n",
       "      <td>...</td>\n",
       "    </tr>\n",
       "    <tr>\n",
       "      <th>46003</th>\n",
       "      <td>930379</td>\n",
       "      <td>69502</td>\n",
       "      <td>0.564679</td>\n",
       "    </tr>\n",
       "    <tr>\n",
       "      <th>46004</th>\n",
       "      <td>692661</td>\n",
       "      <td>69502</td>\n",
       "      <td>0.545031</td>\n",
       "    </tr>\n",
       "    <tr>\n",
       "      <th>46005</th>\n",
       "      <td>17920</td>\n",
       "      <td>69502</td>\n",
       "      <td>0.527110</td>\n",
       "    </tr>\n",
       "    <tr>\n",
       "      <th>46006</th>\n",
       "      <td>26857099</td>\n",
       "      <td>69502</td>\n",
       "      <td>0.600819</td>\n",
       "    </tr>\n",
       "    <tr>\n",
       "      <th>46007</th>\n",
       "      <td>142447</td>\n",
       "      <td>69502</td>\n",
       "      <td>0.589521</td>\n",
       "    </tr>\n",
       "  </tbody>\n",
       "</table>\n",
       "<p>1380807 rows × 3 columns</p>\n",
       "</div>"
      ],
      "text/plain": [
       "       Wikipedia_movie_ID  userId    rating\n",
       "0                   13149  240727  0.500597\n",
       "1                 1108697  240727  0.552228\n",
       "2                  957792  240727  0.597156\n",
       "3                  367085  240727  0.586010\n",
       "4                 8931001  240727  0.586400\n",
       "...                   ...     ...       ...\n",
       "46003              930379   69502  0.564679\n",
       "46004              692661   69502  0.545031\n",
       "46005               17920   69502  0.527110\n",
       "46006            26857099   69502  0.600819\n",
       "46007              142447   69502  0.589521\n",
       "\n",
       "[1380807 rows x 3 columns]"
      ]
     },
     "execution_count": 15,
     "metadata": {},
     "output_type": "execute_result"
    }
   ],
   "source": [
    "model_preds.columns = ['Wikipedia_movie_ID', 'userId', 'rating']\n",
    "model_preds"
   ]
  },
  {
   "cell_type": "code",
   "execution_count": 16,
   "id": "41f3adb4-f419-4ead-a2c9-5b03f73c0a4d",
   "metadata": {},
   "outputs": [],
   "source": [
    "movies_ratings_cols = ['userId', 'Wikipedia_movie_ID', 'rating']\n",
    "\n",
    "X_model, weights_model = (\n",
    "    dataset.build_interactions([tuple(i) for i in model_preds[movies_ratings_cols].values]))"
   ]
  },
  {
   "cell_type": "code",
   "execution_count": 17,
   "id": "d0359c03-7092-474c-953b-caa38b23b55b",
   "metadata": {},
   "outputs": [],
   "source": [
    "matrix_model = pd.DataFrame.sparse.from_spmatrix(weights_model)"
   ]
  },
  {
   "cell_type": "code",
   "execution_count": 18,
   "id": "c6d8e778-2395-46c9-9660-9625a106873c",
   "metadata": {},
   "outputs": [],
   "source": [
    "indexes = [lightfm_mapping['users_mapping'][t] for t in model_preds['userId'].unique()]"
   ]
  },
  {
   "cell_type": "code",
   "execution_count": 19,
   "id": "75328cd2-a712-444b-9357-290b1870a2ba",
   "metadata": {},
   "outputs": [],
   "source": [
    "matrix_test_trunc = matrix_test.iloc[indexes]"
   ]
  },
  {
   "cell_type": "code",
   "execution_count": 20,
   "id": "e942d160-2d64-49cb-8092-ae0d91164761",
   "metadata": {},
   "outputs": [],
   "source": [
    "test_matr_preds = matrix_model.iloc[indexes].values"
   ]
  },
  {
   "cell_type": "code",
   "execution_count": 21,
   "id": "d88b6726-bb2e-4251-b729-cfc1a23cbeb4",
   "metadata": {},
   "outputs": [
    {
     "name": "stdout",
     "output_type": "stream",
     "text": [
      "Main model MAP@10: 0.038846083995684476\n"
     ]
    }
   ],
   "source": [
    "all_mapk = []\n",
    "for actual, predicted in generate_predictions_and_actuals_mapk(test_matr_preds, csr_matrix(matrix_test_trunc), relevance_threshold=4, k=10, batch_size=1000):\n",
    "    current_mapk = batch_mapk(actual, predicted, k=10)\n",
    "    all_mapk.append(current_mapk)\n",
    "\n",
    "print(\"Main model MAP@10:\", np.mean(all_mapk))"
   ]
  },
  {
   "cell_type": "code",
   "execution_count": 22,
   "id": "227f5e4c-4ba2-4e5b-81f8-29701fcdab1a",
   "metadata": {},
   "outputs": [
    {
     "name": "stdout",
     "output_type": "stream",
     "text": [
      "Main model NDCG@10: 0.2323874854238453\n"
     ]
    }
   ],
   "source": [
    "all_ndcg_scores = []\n",
    "for actual, predictions in generate_predictions_and_actuals_ndcg(test_matr_preds, csr_matrix(matrix_test_trunc), batch_size=1000, k=10):\n",
    "    ndcg_score = ndcg_at_k(actual, predictions, k=10)\n",
    "    all_ndcg_scores.append(ndcg_score)\n",
    "\n",
    "print(f\"Main model NDCG@10:\", np.mean(all_ndcg_scores))"
   ]
  },
  {
   "cell_type": "markdown",
   "id": "8dbc2d24-767e-451f-b646-a30edd8b241d",
   "metadata": {},
   "source": [
    "# Final table"
   ]
  },
  {
   "cell_type": "code",
   "execution_count": 51,
   "id": "b29b9b9e-356a-4b35-8a3b-f97415addbd4",
   "metadata": {},
   "outputs": [
    {
     "data": {
      "text/html": [
       "<div>\n",
       "<style scoped>\n",
       "    .dataframe tbody tr th:only-of-type {\n",
       "        vertical-align: middle;\n",
       "    }\n",
       "\n",
       "    .dataframe tbody tr th {\n",
       "        vertical-align: top;\n",
       "    }\n",
       "\n",
       "    .dataframe thead th {\n",
       "        text-align: right;\n",
       "    }\n",
       "</style>\n",
       "<table border=\"1\" class=\"dataframe\">\n",
       "  <thead>\n",
       "    <tr style=\"text-align: right;\">\n",
       "      <th></th>\n",
       "      <th>Main model</th>\n",
       "      <th>Naive_top10_similar_users</th>\n",
       "      <th>Naive_top10_similar_items</th>\n",
       "      <th>Advanced_top10_similar_users</th>\n",
       "      <th>Advanced_top10_similar_items</th>\n",
       "      <th>SVD</th>\n",
       "      <th>EASE</th>\n",
       "    </tr>\n",
       "  </thead>\n",
       "  <tbody>\n",
       "    <tr>\n",
       "      <th>MAP@10</th>\n",
       "      <td>0.0388</td>\n",
       "      <td>0.0362</td>\n",
       "      <td>0.0195</td>\n",
       "      <td>0.0529</td>\n",
       "      <td>0.0</td>\n",
       "      <td>0.0379</td>\n",
       "      <td>0.0035</td>\n",
       "    </tr>\n",
       "    <tr>\n",
       "      <th>NDCG@10</th>\n",
       "      <td>0.2323</td>\n",
       "      <td>0.3475</td>\n",
       "      <td>0.2677</td>\n",
       "      <td>0.3475</td>\n",
       "      <td>0.0</td>\n",
       "      <td>0.3895</td>\n",
       "      <td>0.1193</td>\n",
       "    </tr>\n",
       "  </tbody>\n",
       "</table>\n",
       "</div>"
      ],
      "text/plain": [
       "         Main model  Naive_top10_similar_users  Naive_top10_similar_items  \\\n",
       "MAP@10       0.0388                     0.0362                     0.0195   \n",
       "NDCG@10      0.2323                     0.3475                     0.2677   \n",
       "\n",
       "         Advanced_top10_similar_users  Advanced_top10_similar_items     SVD  \\\n",
       "MAP@10                         0.0529                           0.0  0.0379   \n",
       "NDCG@10                        0.3475                           0.0  0.3895   \n",
       "\n",
       "           EASE  \n",
       "MAP@10   0.0035  \n",
       "NDCG@10  0.1193  "
      ]
     },
     "execution_count": 51,
     "metadata": {},
     "output_type": "execute_result"
    }
   ],
   "source": [
    "main_model = [0.0388, 0.2323]\n",
    "naive_top10_similar_users = [0.0362, 0.3475]\n",
    "naive_top10_similar_items = [0.0195, 0.2677]\n",
    "advanced_top10_similar_users = [0.0529, 0.3475]\n",
    "advanced_top10_similar_items = [0, 0]\n",
    "svd = [0.0379, 0.3895]\n",
    "ease = [0.0035, 0.1193]\n",
    "data = np.column_stack((main_model,\n",
    "                        naive_top10_similar_users,\n",
    "                        naive_top10_similar_items,\n",
    "                        advanced_top10_similar_users,\n",
    "                        advanced_top10_similar_items,\n",
    "                        svd,\n",
    "                        ease))\n",
    "pd.DataFrame(data, columns=['Main model',\n",
    "                            'Naive_top10_similar_users',\n",
    "                            'Naive_top10_similar_items',\n",
    "                            'Advanced_top10_similar_users',\n",
    "                            'Advanced_top10_similar_items',\n",
    "                            'SVD',\n",
    "                            'EASE'], index=['MAP@10', 'NDCG@10'])"
   ]
  }
 ],
 "metadata": {
  "colab": {
   "provenance": []
  },
  "kernelspec": {
   "display_name": "Python 3 (ipykernel)",
   "language": "python",
   "name": "python3"
  },
  "language_info": {
   "codemirror_mode": {
    "name": "ipython",
    "version": 3
   },
   "file_extension": ".py",
   "mimetype": "text/x-python",
   "name": "python",
   "nbconvert_exporter": "python",
   "pygments_lexer": "ipython3",
   "version": "3.9.18"
  }
 },
 "nbformat": 4,
 "nbformat_minor": 5
}
